{
 "cells": [
  {
   "cell_type": "markdown",
   "metadata": {
    "id": "oNHzD-x3NCtS"
   },
   "source": [
    "\n",
    "***Cardiovascular diseases (CVDs) are a group of disorders of the heart and blood vessels and include coronary heart disease, cerebrovascular disease, rheumatic heart disease and other conditions.High blood pressure, high blood cholesterol, and smoking are key risk factors for heart disease.There were more than 523.2 million cases of cardiovascular disease in 2019, an increase of 26.6% compared with 2010.***\n"
   ]
  },
  {
   "cell_type": "markdown",
   "metadata": {
    "id": "NFfSM8LNg1jr"
   },
   "source": [
    "\n",
    "*The dataset is from an ongoing cardiovascular study on residents of the town of Framingham,\n",
    "Massachusetts.The dataset provides the patient's information. It includes\n",
    "over 4,000 records and 15 attributes.*\n",
    "\n"
   ]
  },
  {
   "cell_type": "markdown",
   "metadata": {
    "id": "TWSVuC9b_8FC"
   },
   "source": [
    "## **Project Objective**\n",
    "\n",
    "*The classification goal is to predict whether the patient has a 10-year risk of\n",
    "future coronary heart disease (CHD) considering the other features.*"
   ]
  },
  {
   "cell_type": "markdown",
   "metadata": {},
   "source": [
    "The objectives of the Framingham Study are to study the incidence and prevalence of cardiovascular disease (CVD) and its risk factors, trends in CVD incidence and its risk factors over time, and familial patterns of CVD and risk factors. Other important objectives include the estimation of incidence rates of disease and description of the natural history of cardiovascular disease, including the sequence of clinical signs and systems that precede the clinically recognizable syndrome and the consequences and course of clinically manifest disease."
   ]
  },
  {
   "cell_type": "markdown",
   "metadata": {
    "id": "s0edxvMsKH1j"
   },
   "source": [
    "**Key Facts:**\n",
    "\n",
    "\n",
    "\n",
    "*   *Cardiovascular diseases (CVDs) are the **leading** cause of **death** globally, taking an estimated **17.9 million** people died from CVDs in **2019**, representing **32%** of all **global deaths**. Of these deaths, **85% were due to heart attack and stroke**.* \n",
    "*   *More than **four out of five CVD deaths** are due to **heart attacks** and **strokes**, and **one third of these deaths** occur prematurely in people under **70 years of age**.*\n",
    "*   *The most important behavioural **risk factors** of heart disease and stroke are **unhealthy diet, physical inactivity, tobacco use and harmful use of alcohol**.*\n",
    "*   *Over **three quarters** of CVD deaths take place in **low- and middle-income countries**.*\n",
    "\n",
    "\n",
    "\n",
    "\n",
    "\n"
   ]
  },
  {
   "cell_type": "markdown",
   "metadata": {
    "id": "gILLcJEz1Ajr"
   },
   "source": [
    "*Let's get started with this project by simply importing the libraries and the collected data first.*"
   ]
  },
  {
   "cell_type": "markdown",
   "metadata": {
    "id": "4elKMZ-mlj0V"
   },
   "source": [
    "## **Importing Libraries**"
   ]
  },
  {
   "cell_type": "markdown",
   "metadata": {
    "id": "ZMrDcqIMd_6V"
   },
   "source": [
    "*To do any type of basic analysis or visualization we will be needing some modules or librabies for outcomes. We will be importing libraries like Pandas,numpy(for data manipulation),matplotlib and seaborn(for data visualization).*"
   ]
  },
  {
   "cell_type": "code",
   "execution_count": 18,
   "metadata": {},
   "outputs": [
    {
     "name": "stdout",
     "output_type": "stream",
     "text": [
      "Defaulting to user installation because normal site-packages is not writeable\n",
      "Requirement already satisfied: scikit-learn in c:\\programdata\\anaconda3\\lib\\site-packages (1.2.2)\n",
      "Requirement already satisfied: numpy>=1.17.3 in c:\\programdata\\anaconda3\\lib\\site-packages (from scikit-learn) (1.26.4)\n",
      "Requirement already satisfied: scipy>=1.3.2 in c:\\programdata\\anaconda3\\lib\\site-packages (from scikit-learn) (1.11.4)\n",
      "Requirement already satisfied: joblib>=1.1.1 in c:\\programdata\\anaconda3\\lib\\site-packages (from scikit-learn) (1.2.0)\n",
      "Requirement already satisfied: threadpoolctl>=2.0.0 in c:\\programdata\\anaconda3\\lib\\site-packages (from scikit-learn) (2.2.0)\n",
      "Note: you may need to restart the kernel to use updated packages.\n"
     ]
    }
   ],
   "source": [
    "pip install scikit-learn"
   ]
  },
  {
   "cell_type": "code",
   "execution_count": 19,
   "metadata": {
    "id": "5m_4v9IAlpbk"
   },
   "outputs": [],
   "source": [
    "#Importing data manipulation libraries.\n",
    "import pandas as pd\n",
    "import numpy as np\n",
    "\n",
    "#Importing data visualization libraries.\n",
    "import matplotlib.pyplot as plt\n",
    "%matplotlib inline\n",
    "import seaborn as sns"
   ]
  },
  {
   "cell_type": "markdown",
   "metadata": {
    "id": "MljHCX04bvyX"
   },
   "source": [
    "## **Loading the Data**"
   ]
  },
  {
   "cell_type": "markdown",
   "metadata": {
    "id": "MNLnVDIceyh-"
   },
   "source": [
    "*In this section, we will be importing our data and perform some usual data analysis on it later on.*"
   ]
  },
  {
   "cell_type": "code",
   "execution_count": 20,
   "metadata": {
    "colab": {
     "base_uri": "https://localhost:8080/",
     "height": 455
    },
    "id": "6ucpRdaHmnOk",
    "outputId": "cdb989c7-593e-413b-8dca-911603785e4f"
   },
   "outputs": [
    {
     "data": {
      "text/html": [
       "<div>\n",
       "<style scoped>\n",
       "    .dataframe tbody tr th:only-of-type {\n",
       "        vertical-align: middle;\n",
       "    }\n",
       "\n",
       "    .dataframe tbody tr th {\n",
       "        vertical-align: top;\n",
       "    }\n",
       "\n",
       "    .dataframe thead th {\n",
       "        text-align: right;\n",
       "    }\n",
       "</style>\n",
       "<table border=\"1\" class=\"dataframe\">\n",
       "  <thead>\n",
       "    <tr style=\"text-align: right;\">\n",
       "      <th></th>\n",
       "      <th>sex</th>\n",
       "      <th>age</th>\n",
       "      <th>education</th>\n",
       "      <th>currentSmoker</th>\n",
       "      <th>cigsPerDay</th>\n",
       "      <th>BPMeds</th>\n",
       "      <th>prevalentStroke</th>\n",
       "      <th>prevalentHyp</th>\n",
       "      <th>diabetes</th>\n",
       "      <th>totChol</th>\n",
       "      <th>sysBP</th>\n",
       "      <th>diaBP</th>\n",
       "      <th>BMI</th>\n",
       "      <th>heartRate</th>\n",
       "      <th>glucose</th>\n",
       "      <th>TenYearCHD</th>\n",
       "    </tr>\n",
       "  </thead>\n",
       "  <tbody>\n",
       "    <tr>\n",
       "      <th>0</th>\n",
       "      <td>1</td>\n",
       "      <td>39</td>\n",
       "      <td>4.0</td>\n",
       "      <td>0</td>\n",
       "      <td>0.0</td>\n",
       "      <td>0.0</td>\n",
       "      <td>0</td>\n",
       "      <td>0</td>\n",
       "      <td>0</td>\n",
       "      <td>195.0</td>\n",
       "      <td>106.0</td>\n",
       "      <td>70.0</td>\n",
       "      <td>26.97</td>\n",
       "      <td>80.0</td>\n",
       "      <td>77.0</td>\n",
       "      <td>0</td>\n",
       "    </tr>\n",
       "    <tr>\n",
       "      <th>1</th>\n",
       "      <td>0</td>\n",
       "      <td>46</td>\n",
       "      <td>2.0</td>\n",
       "      <td>0</td>\n",
       "      <td>0.0</td>\n",
       "      <td>0.0</td>\n",
       "      <td>0</td>\n",
       "      <td>0</td>\n",
       "      <td>0</td>\n",
       "      <td>250.0</td>\n",
       "      <td>121.0</td>\n",
       "      <td>81.0</td>\n",
       "      <td>28.73</td>\n",
       "      <td>95.0</td>\n",
       "      <td>76.0</td>\n",
       "      <td>0</td>\n",
       "    </tr>\n",
       "    <tr>\n",
       "      <th>2</th>\n",
       "      <td>1</td>\n",
       "      <td>48</td>\n",
       "      <td>1.0</td>\n",
       "      <td>1</td>\n",
       "      <td>20.0</td>\n",
       "      <td>0.0</td>\n",
       "      <td>0</td>\n",
       "      <td>0</td>\n",
       "      <td>0</td>\n",
       "      <td>245.0</td>\n",
       "      <td>127.5</td>\n",
       "      <td>80.0</td>\n",
       "      <td>25.34</td>\n",
       "      <td>75.0</td>\n",
       "      <td>70.0</td>\n",
       "      <td>0</td>\n",
       "    </tr>\n",
       "    <tr>\n",
       "      <th>3</th>\n",
       "      <td>0</td>\n",
       "      <td>61</td>\n",
       "      <td>3.0</td>\n",
       "      <td>1</td>\n",
       "      <td>30.0</td>\n",
       "      <td>0.0</td>\n",
       "      <td>0</td>\n",
       "      <td>1</td>\n",
       "      <td>0</td>\n",
       "      <td>225.0</td>\n",
       "      <td>150.0</td>\n",
       "      <td>95.0</td>\n",
       "      <td>28.58</td>\n",
       "      <td>65.0</td>\n",
       "      <td>103.0</td>\n",
       "      <td>1</td>\n",
       "    </tr>\n",
       "    <tr>\n",
       "      <th>4</th>\n",
       "      <td>0</td>\n",
       "      <td>46</td>\n",
       "      <td>3.0</td>\n",
       "      <td>1</td>\n",
       "      <td>23.0</td>\n",
       "      <td>0.0</td>\n",
       "      <td>0</td>\n",
       "      <td>0</td>\n",
       "      <td>0</td>\n",
       "      <td>285.0</td>\n",
       "      <td>130.0</td>\n",
       "      <td>84.0</td>\n",
       "      <td>23.10</td>\n",
       "      <td>85.0</td>\n",
       "      <td>85.0</td>\n",
       "      <td>0</td>\n",
       "    </tr>\n",
       "    <tr>\n",
       "      <th>...</th>\n",
       "      <td>...</td>\n",
       "      <td>...</td>\n",
       "      <td>...</td>\n",
       "      <td>...</td>\n",
       "      <td>...</td>\n",
       "      <td>...</td>\n",
       "      <td>...</td>\n",
       "      <td>...</td>\n",
       "      <td>...</td>\n",
       "      <td>...</td>\n",
       "      <td>...</td>\n",
       "      <td>...</td>\n",
       "      <td>...</td>\n",
       "      <td>...</td>\n",
       "      <td>...</td>\n",
       "      <td>...</td>\n",
       "    </tr>\n",
       "    <tr>\n",
       "      <th>4235</th>\n",
       "      <td>0</td>\n",
       "      <td>48</td>\n",
       "      <td>2.0</td>\n",
       "      <td>1</td>\n",
       "      <td>20.0</td>\n",
       "      <td>NaN</td>\n",
       "      <td>0</td>\n",
       "      <td>0</td>\n",
       "      <td>0</td>\n",
       "      <td>248.0</td>\n",
       "      <td>131.0</td>\n",
       "      <td>72.0</td>\n",
       "      <td>22.00</td>\n",
       "      <td>84.0</td>\n",
       "      <td>86.0</td>\n",
       "      <td>0</td>\n",
       "    </tr>\n",
       "    <tr>\n",
       "      <th>4236</th>\n",
       "      <td>0</td>\n",
       "      <td>44</td>\n",
       "      <td>1.0</td>\n",
       "      <td>1</td>\n",
       "      <td>15.0</td>\n",
       "      <td>0.0</td>\n",
       "      <td>0</td>\n",
       "      <td>0</td>\n",
       "      <td>0</td>\n",
       "      <td>210.0</td>\n",
       "      <td>126.5</td>\n",
       "      <td>87.0</td>\n",
       "      <td>19.16</td>\n",
       "      <td>86.0</td>\n",
       "      <td>NaN</td>\n",
       "      <td>0</td>\n",
       "    </tr>\n",
       "    <tr>\n",
       "      <th>4237</th>\n",
       "      <td>0</td>\n",
       "      <td>52</td>\n",
       "      <td>2.0</td>\n",
       "      <td>0</td>\n",
       "      <td>0.0</td>\n",
       "      <td>0.0</td>\n",
       "      <td>0</td>\n",
       "      <td>0</td>\n",
       "      <td>0</td>\n",
       "      <td>269.0</td>\n",
       "      <td>133.5</td>\n",
       "      <td>83.0</td>\n",
       "      <td>21.47</td>\n",
       "      <td>80.0</td>\n",
       "      <td>107.0</td>\n",
       "      <td>0</td>\n",
       "    </tr>\n",
       "    <tr>\n",
       "      <th>4238</th>\n",
       "      <td>1</td>\n",
       "      <td>40</td>\n",
       "      <td>3.0</td>\n",
       "      <td>0</td>\n",
       "      <td>0.0</td>\n",
       "      <td>0.0</td>\n",
       "      <td>0</td>\n",
       "      <td>1</td>\n",
       "      <td>0</td>\n",
       "      <td>185.0</td>\n",
       "      <td>141.0</td>\n",
       "      <td>98.0</td>\n",
       "      <td>25.60</td>\n",
       "      <td>67.0</td>\n",
       "      <td>72.0</td>\n",
       "      <td>0</td>\n",
       "    </tr>\n",
       "    <tr>\n",
       "      <th>4239</th>\n",
       "      <td>0</td>\n",
       "      <td>39</td>\n",
       "      <td>3.0</td>\n",
       "      <td>1</td>\n",
       "      <td>30.0</td>\n",
       "      <td>0.0</td>\n",
       "      <td>0</td>\n",
       "      <td>0</td>\n",
       "      <td>0</td>\n",
       "      <td>196.0</td>\n",
       "      <td>133.0</td>\n",
       "      <td>86.0</td>\n",
       "      <td>20.91</td>\n",
       "      <td>85.0</td>\n",
       "      <td>80.0</td>\n",
       "      <td>0</td>\n",
       "    </tr>\n",
       "  </tbody>\n",
       "</table>\n",
       "<p>4240 rows × 16 columns</p>\n",
       "</div>"
      ],
      "text/plain": [
       "      sex  age  education  currentSmoker  cigsPerDay  BPMeds  prevalentStroke  \\\n",
       "0       1   39        4.0              0         0.0     0.0                0   \n",
       "1       0   46        2.0              0         0.0     0.0                0   \n",
       "2       1   48        1.0              1        20.0     0.0                0   \n",
       "3       0   61        3.0              1        30.0     0.0                0   \n",
       "4       0   46        3.0              1        23.0     0.0                0   \n",
       "...   ...  ...        ...            ...         ...     ...              ...   \n",
       "4235    0   48        2.0              1        20.0     NaN                0   \n",
       "4236    0   44        1.0              1        15.0     0.0                0   \n",
       "4237    0   52        2.0              0         0.0     0.0                0   \n",
       "4238    1   40        3.0              0         0.0     0.0                0   \n",
       "4239    0   39        3.0              1        30.0     0.0                0   \n",
       "\n",
       "      prevalentHyp  diabetes  totChol  sysBP  diaBP    BMI  heartRate  \\\n",
       "0                0         0    195.0  106.0   70.0  26.97       80.0   \n",
       "1                0         0    250.0  121.0   81.0  28.73       95.0   \n",
       "2                0         0    245.0  127.5   80.0  25.34       75.0   \n",
       "3                1         0    225.0  150.0   95.0  28.58       65.0   \n",
       "4                0         0    285.0  130.0   84.0  23.10       85.0   \n",
       "...            ...       ...      ...    ...    ...    ...        ...   \n",
       "4235             0         0    248.0  131.0   72.0  22.00       84.0   \n",
       "4236             0         0    210.0  126.5   87.0  19.16       86.0   \n",
       "4237             0         0    269.0  133.5   83.0  21.47       80.0   \n",
       "4238             1         0    185.0  141.0   98.0  25.60       67.0   \n",
       "4239             0         0    196.0  133.0   86.0  20.91       85.0   \n",
       "\n",
       "      glucose  TenYearCHD  \n",
       "0        77.0           0  \n",
       "1        76.0           0  \n",
       "2        70.0           0  \n",
       "3       103.0           1  \n",
       "4        85.0           0  \n",
       "...       ...         ...  \n",
       "4235     86.0           0  \n",
       "4236      NaN           0  \n",
       "4237    107.0           0  \n",
       "4238     72.0           0  \n",
       "4239     80.0           0  \n",
       "\n",
       "[4240 rows x 16 columns]"
      ]
     },
     "execution_count": 20,
     "metadata": {},
     "output_type": "execute_result"
    }
   ],
   "source": [
    "#loading dataset\n",
    "df = pd.read_csv('framingham_CVD_dataset.csv')\n",
    "\n",
    "#Showing the dataframe.\n",
    "df"
   ]
  },
  {
   "cell_type": "markdown",
   "metadata": {
    "id": "OSQqkNNjhcAL"
   },
   "source": [
    "## **Variables**\n",
    "\n",
    "***Each attribute is a potential risk factor. There are both demographic, behavioral, and medical risk factors.***\n"
   ]
  },
  {
   "cell_type": "markdown",
   "metadata": {
    "id": "TkAfQe8thNoj"
   },
   "source": [
    "# **Data Description**\n",
    "\n",
    "###***Demographic:***\n",
    "\n",
    "*• **Sex:** male or female*\n",
    "\n",
    "*• **Age:** Age of the patient;(Continuous - Although the recorded ages have been truncated to\n",
    "whole numbers, the concept of age is continuous)*\n",
    "\n",
    "###***Behavioral:***\n",
    "\n",
    "*• **is_smoking:** whether or not the patient is a current smoker*\n",
    "\n",
    "*• **Cigs Per Day:** the number of cigarettes that the person smoked on average in one day.(can be\n",
    "considered continuous as one can have any number of cigarettes, even half a cigarette.)*\n",
    "\n",
    "###***Medical( history):***\n",
    "\n",
    "*• **BP Meds:** whether or not the patient was on blood pressure medication (Nominal)*\n",
    "\n",
    "*• **Prevalent Stroke:** whether or not the patient had previously had a stroke (Nominal)*\n",
    "\n",
    "*• **Prevalent Hyp:** whether or not the patient was hypertensive (Nominal)*\n",
    "\n",
    "*• **Diabetes:** whether or not the patient had diabetes (Nominal)*\n",
    "\n",
    "###***Medical(current):***\n",
    "\n",
    "*• **Tot Chol:** total cholesterol level (Continuous)*\n",
    "\n",
    "*• **Sys BP:** systolic blood pressure (Continuous)*\n",
    "\n",
    "*• **Dia BP:** diastolic blood pressure (Continuous)*\n",
    "\n",
    "*• **BMI:** Body Mass Index (Continuous)*\n",
    "\n",
    "*• **Heart Rate:** heart rate (Continuous - In medical research, variables such as heart rate though in\n",
    "fact discrete, yet are considered continuous because of large number of possible values.)*\n",
    "\n",
    "*• **Glucose:** glucose level (Continuous)*\n",
    "\n",
    "###***Predict variable (desired target):***\n",
    "\n",
    "***• 10-year risk of coronary heart disease CHD(binary: “1”, means “Yes”\n",
    ", “0” means “No”) -\n",
    "DEPENDANT VARIABLE***"
   ]
  },
  {
   "cell_type": "markdown",
   "metadata": {
    "id": "FIjUuJsRb8LQ"
   },
   "source": [
    "## **Data Inspection**"
   ]
  },
  {
   "cell_type": "markdown",
   "metadata": {
    "id": "HnMtYdUwjMlq"
   },
   "source": [
    "*Here, we will be performing basic and initial analysis on our raw data to check the data inside of each provided column, check the data type of each column and shape of our data.*"
   ]
  },
  {
   "cell_type": "code",
   "execution_count": 21,
   "metadata": {
    "colab": {
     "base_uri": "https://localhost:8080/",
     "height": 237
    },
    "id": "X22_w-qknqGc",
    "outputId": "699c15ca-412d-493b-ff03-8d2f6cfcae59"
   },
   "outputs": [
    {
     "data": {
      "text/html": [
       "<div>\n",
       "<style scoped>\n",
       "    .dataframe tbody tr th:only-of-type {\n",
       "        vertical-align: middle;\n",
       "    }\n",
       "\n",
       "    .dataframe tbody tr th {\n",
       "        vertical-align: top;\n",
       "    }\n",
       "\n",
       "    .dataframe thead th {\n",
       "        text-align: right;\n",
       "    }\n",
       "</style>\n",
       "<table border=\"1\" class=\"dataframe\">\n",
       "  <thead>\n",
       "    <tr style=\"text-align: right;\">\n",
       "      <th></th>\n",
       "      <th>sex</th>\n",
       "      <th>age</th>\n",
       "      <th>education</th>\n",
       "      <th>currentSmoker</th>\n",
       "      <th>cigsPerDay</th>\n",
       "      <th>BPMeds</th>\n",
       "      <th>prevalentStroke</th>\n",
       "      <th>prevalentHyp</th>\n",
       "      <th>diabetes</th>\n",
       "      <th>totChol</th>\n",
       "      <th>sysBP</th>\n",
       "      <th>diaBP</th>\n",
       "      <th>BMI</th>\n",
       "      <th>heartRate</th>\n",
       "      <th>glucose</th>\n",
       "      <th>TenYearCHD</th>\n",
       "    </tr>\n",
       "  </thead>\n",
       "  <tbody>\n",
       "    <tr>\n",
       "      <th>0</th>\n",
       "      <td>1</td>\n",
       "      <td>39</td>\n",
       "      <td>4.0</td>\n",
       "      <td>0</td>\n",
       "      <td>0.0</td>\n",
       "      <td>0.0</td>\n",
       "      <td>0</td>\n",
       "      <td>0</td>\n",
       "      <td>0</td>\n",
       "      <td>195.0</td>\n",
       "      <td>106.0</td>\n",
       "      <td>70.0</td>\n",
       "      <td>26.97</td>\n",
       "      <td>80.0</td>\n",
       "      <td>77.0</td>\n",
       "      <td>0</td>\n",
       "    </tr>\n",
       "    <tr>\n",
       "      <th>1</th>\n",
       "      <td>0</td>\n",
       "      <td>46</td>\n",
       "      <td>2.0</td>\n",
       "      <td>0</td>\n",
       "      <td>0.0</td>\n",
       "      <td>0.0</td>\n",
       "      <td>0</td>\n",
       "      <td>0</td>\n",
       "      <td>0</td>\n",
       "      <td>250.0</td>\n",
       "      <td>121.0</td>\n",
       "      <td>81.0</td>\n",
       "      <td>28.73</td>\n",
       "      <td>95.0</td>\n",
       "      <td>76.0</td>\n",
       "      <td>0</td>\n",
       "    </tr>\n",
       "    <tr>\n",
       "      <th>2</th>\n",
       "      <td>1</td>\n",
       "      <td>48</td>\n",
       "      <td>1.0</td>\n",
       "      <td>1</td>\n",
       "      <td>20.0</td>\n",
       "      <td>0.0</td>\n",
       "      <td>0</td>\n",
       "      <td>0</td>\n",
       "      <td>0</td>\n",
       "      <td>245.0</td>\n",
       "      <td>127.5</td>\n",
       "      <td>80.0</td>\n",
       "      <td>25.34</td>\n",
       "      <td>75.0</td>\n",
       "      <td>70.0</td>\n",
       "      <td>0</td>\n",
       "    </tr>\n",
       "    <tr>\n",
       "      <th>3</th>\n",
       "      <td>0</td>\n",
       "      <td>61</td>\n",
       "      <td>3.0</td>\n",
       "      <td>1</td>\n",
       "      <td>30.0</td>\n",
       "      <td>0.0</td>\n",
       "      <td>0</td>\n",
       "      <td>1</td>\n",
       "      <td>0</td>\n",
       "      <td>225.0</td>\n",
       "      <td>150.0</td>\n",
       "      <td>95.0</td>\n",
       "      <td>28.58</td>\n",
       "      <td>65.0</td>\n",
       "      <td>103.0</td>\n",
       "      <td>1</td>\n",
       "    </tr>\n",
       "    <tr>\n",
       "      <th>4</th>\n",
       "      <td>0</td>\n",
       "      <td>46</td>\n",
       "      <td>3.0</td>\n",
       "      <td>1</td>\n",
       "      <td>23.0</td>\n",
       "      <td>0.0</td>\n",
       "      <td>0</td>\n",
       "      <td>0</td>\n",
       "      <td>0</td>\n",
       "      <td>285.0</td>\n",
       "      <td>130.0</td>\n",
       "      <td>84.0</td>\n",
       "      <td>23.10</td>\n",
       "      <td>85.0</td>\n",
       "      <td>85.0</td>\n",
       "      <td>0</td>\n",
       "    </tr>\n",
       "  </tbody>\n",
       "</table>\n",
       "</div>"
      ],
      "text/plain": [
       "   sex  age  education  currentSmoker  cigsPerDay  BPMeds  prevalentStroke  \\\n",
       "0    1   39        4.0              0         0.0     0.0                0   \n",
       "1    0   46        2.0              0         0.0     0.0                0   \n",
       "2    1   48        1.0              1        20.0     0.0                0   \n",
       "3    0   61        3.0              1        30.0     0.0                0   \n",
       "4    0   46        3.0              1        23.0     0.0                0   \n",
       "\n",
       "   prevalentHyp  diabetes  totChol  sysBP  diaBP    BMI  heartRate  glucose  \\\n",
       "0             0         0    195.0  106.0   70.0  26.97       80.0     77.0   \n",
       "1             0         0    250.0  121.0   81.0  28.73       95.0     76.0   \n",
       "2             0         0    245.0  127.5   80.0  25.34       75.0     70.0   \n",
       "3             1         0    225.0  150.0   95.0  28.58       65.0    103.0   \n",
       "4             0         0    285.0  130.0   84.0  23.10       85.0     85.0   \n",
       "\n",
       "   TenYearCHD  \n",
       "0           0  \n",
       "1           0  \n",
       "2           0  \n",
       "3           1  \n",
       "4           0  "
      ]
     },
     "execution_count": 21,
     "metadata": {},
     "output_type": "execute_result"
    }
   ],
   "source": [
    "#Checking the first 5 rows.\n",
    "df.head()"
   ]
  },
  {
   "cell_type": "code",
   "execution_count": 22,
   "metadata": {
    "colab": {
     "base_uri": "https://localhost:8080/",
     "height": 237
    },
    "id": "7a__yBw2nr0l",
    "outputId": "baf4c300-3b09-49f1-ab42-e5a57cf7598c"
   },
   "outputs": [
    {
     "data": {
      "text/html": [
       "<div>\n",
       "<style scoped>\n",
       "    .dataframe tbody tr th:only-of-type {\n",
       "        vertical-align: middle;\n",
       "    }\n",
       "\n",
       "    .dataframe tbody tr th {\n",
       "        vertical-align: top;\n",
       "    }\n",
       "\n",
       "    .dataframe thead th {\n",
       "        text-align: right;\n",
       "    }\n",
       "</style>\n",
       "<table border=\"1\" class=\"dataframe\">\n",
       "  <thead>\n",
       "    <tr style=\"text-align: right;\">\n",
       "      <th></th>\n",
       "      <th>sex</th>\n",
       "      <th>age</th>\n",
       "      <th>education</th>\n",
       "      <th>currentSmoker</th>\n",
       "      <th>cigsPerDay</th>\n",
       "      <th>BPMeds</th>\n",
       "      <th>prevalentStroke</th>\n",
       "      <th>prevalentHyp</th>\n",
       "      <th>diabetes</th>\n",
       "      <th>totChol</th>\n",
       "      <th>sysBP</th>\n",
       "      <th>diaBP</th>\n",
       "      <th>BMI</th>\n",
       "      <th>heartRate</th>\n",
       "      <th>glucose</th>\n",
       "      <th>TenYearCHD</th>\n",
       "    </tr>\n",
       "  </thead>\n",
       "  <tbody>\n",
       "    <tr>\n",
       "      <th>4235</th>\n",
       "      <td>0</td>\n",
       "      <td>48</td>\n",
       "      <td>2.0</td>\n",
       "      <td>1</td>\n",
       "      <td>20.0</td>\n",
       "      <td>NaN</td>\n",
       "      <td>0</td>\n",
       "      <td>0</td>\n",
       "      <td>0</td>\n",
       "      <td>248.0</td>\n",
       "      <td>131.0</td>\n",
       "      <td>72.0</td>\n",
       "      <td>22.00</td>\n",
       "      <td>84.0</td>\n",
       "      <td>86.0</td>\n",
       "      <td>0</td>\n",
       "    </tr>\n",
       "    <tr>\n",
       "      <th>4236</th>\n",
       "      <td>0</td>\n",
       "      <td>44</td>\n",
       "      <td>1.0</td>\n",
       "      <td>1</td>\n",
       "      <td>15.0</td>\n",
       "      <td>0.0</td>\n",
       "      <td>0</td>\n",
       "      <td>0</td>\n",
       "      <td>0</td>\n",
       "      <td>210.0</td>\n",
       "      <td>126.5</td>\n",
       "      <td>87.0</td>\n",
       "      <td>19.16</td>\n",
       "      <td>86.0</td>\n",
       "      <td>NaN</td>\n",
       "      <td>0</td>\n",
       "    </tr>\n",
       "    <tr>\n",
       "      <th>4237</th>\n",
       "      <td>0</td>\n",
       "      <td>52</td>\n",
       "      <td>2.0</td>\n",
       "      <td>0</td>\n",
       "      <td>0.0</td>\n",
       "      <td>0.0</td>\n",
       "      <td>0</td>\n",
       "      <td>0</td>\n",
       "      <td>0</td>\n",
       "      <td>269.0</td>\n",
       "      <td>133.5</td>\n",
       "      <td>83.0</td>\n",
       "      <td>21.47</td>\n",
       "      <td>80.0</td>\n",
       "      <td>107.0</td>\n",
       "      <td>0</td>\n",
       "    </tr>\n",
       "    <tr>\n",
       "      <th>4238</th>\n",
       "      <td>1</td>\n",
       "      <td>40</td>\n",
       "      <td>3.0</td>\n",
       "      <td>0</td>\n",
       "      <td>0.0</td>\n",
       "      <td>0.0</td>\n",
       "      <td>0</td>\n",
       "      <td>1</td>\n",
       "      <td>0</td>\n",
       "      <td>185.0</td>\n",
       "      <td>141.0</td>\n",
       "      <td>98.0</td>\n",
       "      <td>25.60</td>\n",
       "      <td>67.0</td>\n",
       "      <td>72.0</td>\n",
       "      <td>0</td>\n",
       "    </tr>\n",
       "    <tr>\n",
       "      <th>4239</th>\n",
       "      <td>0</td>\n",
       "      <td>39</td>\n",
       "      <td>3.0</td>\n",
       "      <td>1</td>\n",
       "      <td>30.0</td>\n",
       "      <td>0.0</td>\n",
       "      <td>0</td>\n",
       "      <td>0</td>\n",
       "      <td>0</td>\n",
       "      <td>196.0</td>\n",
       "      <td>133.0</td>\n",
       "      <td>86.0</td>\n",
       "      <td>20.91</td>\n",
       "      <td>85.0</td>\n",
       "      <td>80.0</td>\n",
       "      <td>0</td>\n",
       "    </tr>\n",
       "  </tbody>\n",
       "</table>\n",
       "</div>"
      ],
      "text/plain": [
       "      sex  age  education  currentSmoker  cigsPerDay  BPMeds  prevalentStroke  \\\n",
       "4235    0   48        2.0              1        20.0     NaN                0   \n",
       "4236    0   44        1.0              1        15.0     0.0                0   \n",
       "4237    0   52        2.0              0         0.0     0.0                0   \n",
       "4238    1   40        3.0              0         0.0     0.0                0   \n",
       "4239    0   39        3.0              1        30.0     0.0                0   \n",
       "\n",
       "      prevalentHyp  diabetes  totChol  sysBP  diaBP    BMI  heartRate  \\\n",
       "4235             0         0    248.0  131.0   72.0  22.00       84.0   \n",
       "4236             0         0    210.0  126.5   87.0  19.16       86.0   \n",
       "4237             0         0    269.0  133.5   83.0  21.47       80.0   \n",
       "4238             1         0    185.0  141.0   98.0  25.60       67.0   \n",
       "4239             0         0    196.0  133.0   86.0  20.91       85.0   \n",
       "\n",
       "      glucose  TenYearCHD  \n",
       "4235     86.0           0  \n",
       "4236      NaN           0  \n",
       "4237    107.0           0  \n",
       "4238     72.0           0  \n",
       "4239     80.0           0  "
      ]
     },
     "execution_count": 22,
     "metadata": {},
     "output_type": "execute_result"
    }
   ],
   "source": [
    "#Checking the last 5 rows.\n",
    "df.tail()"
   ]
  },
  {
   "cell_type": "code",
   "execution_count": 23,
   "metadata": {
    "colab": {
     "base_uri": "https://localhost:8080/"
    },
    "id": "uJUVd4fHntzE",
    "outputId": "2420f786-d939-4b47-90bd-2b0e36634448"
   },
   "outputs": [
    {
     "data": {
      "text/plain": [
       "(4240, 16)"
      ]
     },
     "execution_count": 23,
     "metadata": {},
     "output_type": "execute_result"
    }
   ],
   "source": [
    "#Checking the shape of the data.\n",
    "df.shape"
   ]
  },
  {
   "cell_type": "code",
   "execution_count": 24,
   "metadata": {
    "colab": {
     "base_uri": "https://localhost:8080/"
    },
    "id": "CoYHPsE0nxBJ",
    "outputId": "84dcf92c-0c06-4f11-eed9-b75de2b5ea13"
   },
   "outputs": [
    {
     "data": {
      "text/plain": [
       "Index(['sex', 'age', 'education', 'currentSmoker', 'cigsPerDay', 'BPMeds',\n",
       "       'prevalentStroke', 'prevalentHyp', 'diabetes', 'totChol', 'sysBP',\n",
       "       'diaBP', 'BMI', 'heartRate', 'glucose', 'TenYearCHD'],\n",
       "      dtype='object')"
      ]
     },
     "execution_count": 24,
     "metadata": {},
     "output_type": "execute_result"
    }
   ],
   "source": [
    "#Checking for the title of all the columns.\n",
    "df.columns"
   ]
  },
  {
   "cell_type": "code",
   "execution_count": 25,
   "metadata": {
    "colab": {
     "base_uri": "https://localhost:8080/",
     "height": 143
    },
    "id": "PlhcEk3g0GTc",
    "outputId": "2fd485e6-e21c-4255-fbf4-f9e03499c854"
   },
   "outputs": [
    {
     "data": {
      "text/html": [
       "<div>\n",
       "<style scoped>\n",
       "    .dataframe tbody tr th:only-of-type {\n",
       "        vertical-align: middle;\n",
       "    }\n",
       "\n",
       "    .dataframe tbody tr th {\n",
       "        vertical-align: top;\n",
       "    }\n",
       "\n",
       "    .dataframe thead th {\n",
       "        text-align: right;\n",
       "    }\n",
       "</style>\n",
       "<table border=\"1\" class=\"dataframe\">\n",
       "  <thead>\n",
       "    <tr style=\"text-align: right;\">\n",
       "      <th></th>\n",
       "      <th>sex</th>\n",
       "      <th>age</th>\n",
       "      <th>education</th>\n",
       "      <th>currentSmoker</th>\n",
       "      <th>cigsPerDay</th>\n",
       "      <th>BPMeds</th>\n",
       "      <th>prevalentStroke</th>\n",
       "      <th>prevalentHyp</th>\n",
       "      <th>diabetes</th>\n",
       "      <th>totChol</th>\n",
       "      <th>sysBP</th>\n",
       "      <th>diaBP</th>\n",
       "      <th>BMI</th>\n",
       "      <th>heartRate</th>\n",
       "      <th>glucose</th>\n",
       "      <th>TenYearCHD</th>\n",
       "    </tr>\n",
       "  </thead>\n",
       "  <tbody>\n",
       "    <tr>\n",
       "      <th>0</th>\n",
       "      <td>1</td>\n",
       "      <td>39</td>\n",
       "      <td>4.0</td>\n",
       "      <td>0</td>\n",
       "      <td>0.0</td>\n",
       "      <td>0.0</td>\n",
       "      <td>0</td>\n",
       "      <td>0</td>\n",
       "      <td>0</td>\n",
       "      <td>195.0</td>\n",
       "      <td>106.0</td>\n",
       "      <td>70.0</td>\n",
       "      <td>26.97</td>\n",
       "      <td>80.0</td>\n",
       "      <td>77.0</td>\n",
       "      <td>0</td>\n",
       "    </tr>\n",
       "    <tr>\n",
       "      <th>1</th>\n",
       "      <td>0</td>\n",
       "      <td>46</td>\n",
       "      <td>2.0</td>\n",
       "      <td>0</td>\n",
       "      <td>0.0</td>\n",
       "      <td>0.0</td>\n",
       "      <td>0</td>\n",
       "      <td>0</td>\n",
       "      <td>0</td>\n",
       "      <td>250.0</td>\n",
       "      <td>121.0</td>\n",
       "      <td>81.0</td>\n",
       "      <td>28.73</td>\n",
       "      <td>95.0</td>\n",
       "      <td>76.0</td>\n",
       "      <td>0</td>\n",
       "    </tr>\n",
       "  </tbody>\n",
       "</table>\n",
       "</div>"
      ],
      "text/plain": [
       "   sex  age  education  currentSmoker  cigsPerDay  BPMeds  prevalentStroke  \\\n",
       "0    1   39        4.0              0         0.0     0.0                0   \n",
       "1    0   46        2.0              0         0.0     0.0                0   \n",
       "\n",
       "   prevalentHyp  diabetes  totChol  sysBP  diaBP    BMI  heartRate  glucose  \\\n",
       "0             0         0    195.0  106.0   70.0  26.97       80.0     77.0   \n",
       "1             0         0    250.0  121.0   81.0  28.73       95.0     76.0   \n",
       "\n",
       "   TenYearCHD  \n",
       "0           0  \n",
       "1           0  "
      ]
     },
     "execution_count": 25,
     "metadata": {},
     "output_type": "execute_result"
    }
   ],
   "source": [
    "#Updated Dataset after renaming all the columns.\n",
    "df.head(2)"
   ]
  },
  {
   "cell_type": "code",
   "execution_count": 26,
   "metadata": {
    "colab": {
     "base_uri": "https://localhost:8080/"
    },
    "id": "mz1xZxFmnyvB",
    "outputId": "b3ae4c13-0952-4233-9c15-2829d25f38dc"
   },
   "outputs": [
    {
     "name": "stdout",
     "output_type": "stream",
     "text": [
      "<class 'pandas.core.frame.DataFrame'>\n",
      "RangeIndex: 4240 entries, 0 to 4239\n",
      "Data columns (total 16 columns):\n",
      " #   Column           Non-Null Count  Dtype  \n",
      "---  ------           --------------  -----  \n",
      " 0   sex              4240 non-null   int64  \n",
      " 1   age              4240 non-null   int64  \n",
      " 2   education        4135 non-null   float64\n",
      " 3   currentSmoker    4240 non-null   int64  \n",
      " 4   cigsPerDay       4211 non-null   float64\n",
      " 5   BPMeds           4187 non-null   float64\n",
      " 6   prevalentStroke  4240 non-null   int64  \n",
      " 7   prevalentHyp     4240 non-null   int64  \n",
      " 8   diabetes         4240 non-null   int64  \n",
      " 9   totChol          4190 non-null   float64\n",
      " 10  sysBP            4240 non-null   float64\n",
      " 11  diaBP            4240 non-null   float64\n",
      " 12  BMI              4221 non-null   float64\n",
      " 13  heartRate        4239 non-null   float64\n",
      " 14  glucose          3852 non-null   float64\n",
      " 15  TenYearCHD       4240 non-null   int64  \n",
      "dtypes: float64(9), int64(7)\n",
      "memory usage: 530.1 KB\n"
     ]
    }
   ],
   "source": [
    "#Checking for null entries and data type of each column.\n",
    "df.info()"
   ]
  },
  {
   "cell_type": "markdown",
   "metadata": {
    "id": "50lRuViakKTg"
   },
   "source": [
    "*It is seen that there are **4240 rows and 16 columns**.*\n",
    "\n",
    "*There are some **NULL values** present in **\"education\",\"cigsPerDay\",\"BPMeds\",\"totChol\",\"BMI\",\"heartRate\"and \"glucose\"**.*\n",
    "\n",
    "*There are **9 float type** columns and **7 int type** columns  \n",
    "\n",
    "**\"10yearCHD\" is our Target or Dependant variable.**"
   ]
  },
  {
   "cell_type": "markdown",
   "metadata": {
    "id": "hkoTsIH4EwKV"
   },
   "source": [
    "## **Statistical Analysis**"
   ]
  },
  {
   "cell_type": "code",
   "execution_count": 27,
   "metadata": {
    "colab": {
     "base_uri": "https://localhost:8080/",
     "height": 551
    },
    "id": "r9xBvBLFn59m",
    "outputId": "0d6a1b5a-958a-4175-ba79-fb269effa074"
   },
   "outputs": [
    {
     "data": {
      "text/html": [
       "<div>\n",
       "<style scoped>\n",
       "    .dataframe tbody tr th:only-of-type {\n",
       "        vertical-align: middle;\n",
       "    }\n",
       "\n",
       "    .dataframe tbody tr th {\n",
       "        vertical-align: top;\n",
       "    }\n",
       "\n",
       "    .dataframe thead th {\n",
       "        text-align: right;\n",
       "    }\n",
       "</style>\n",
       "<table border=\"1\" class=\"dataframe\">\n",
       "  <thead>\n",
       "    <tr style=\"text-align: right;\">\n",
       "      <th></th>\n",
       "      <th>count</th>\n",
       "      <th>mean</th>\n",
       "      <th>std</th>\n",
       "      <th>min</th>\n",
       "      <th>25%</th>\n",
       "      <th>50%</th>\n",
       "      <th>75%</th>\n",
       "      <th>max</th>\n",
       "    </tr>\n",
       "  </thead>\n",
       "  <tbody>\n",
       "    <tr>\n",
       "      <th>sex</th>\n",
       "      <td>4240.0</td>\n",
       "      <td>0.429245</td>\n",
       "      <td>0.495027</td>\n",
       "      <td>0.00</td>\n",
       "      <td>0.00</td>\n",
       "      <td>0.0</td>\n",
       "      <td>1.00</td>\n",
       "      <td>1.0</td>\n",
       "    </tr>\n",
       "    <tr>\n",
       "      <th>age</th>\n",
       "      <td>4240.0</td>\n",
       "      <td>49.580189</td>\n",
       "      <td>8.572942</td>\n",
       "      <td>32.00</td>\n",
       "      <td>42.00</td>\n",
       "      <td>49.0</td>\n",
       "      <td>56.00</td>\n",
       "      <td>70.0</td>\n",
       "    </tr>\n",
       "    <tr>\n",
       "      <th>education</th>\n",
       "      <td>4135.0</td>\n",
       "      <td>1.979444</td>\n",
       "      <td>1.019791</td>\n",
       "      <td>1.00</td>\n",
       "      <td>1.00</td>\n",
       "      <td>2.0</td>\n",
       "      <td>3.00</td>\n",
       "      <td>4.0</td>\n",
       "    </tr>\n",
       "    <tr>\n",
       "      <th>currentSmoker</th>\n",
       "      <td>4240.0</td>\n",
       "      <td>0.494104</td>\n",
       "      <td>0.500024</td>\n",
       "      <td>0.00</td>\n",
       "      <td>0.00</td>\n",
       "      <td>0.0</td>\n",
       "      <td>1.00</td>\n",
       "      <td>1.0</td>\n",
       "    </tr>\n",
       "    <tr>\n",
       "      <th>cigsPerDay</th>\n",
       "      <td>4211.0</td>\n",
       "      <td>9.005937</td>\n",
       "      <td>11.922462</td>\n",
       "      <td>0.00</td>\n",
       "      <td>0.00</td>\n",
       "      <td>0.0</td>\n",
       "      <td>20.00</td>\n",
       "      <td>70.0</td>\n",
       "    </tr>\n",
       "    <tr>\n",
       "      <th>BPMeds</th>\n",
       "      <td>4187.0</td>\n",
       "      <td>0.029615</td>\n",
       "      <td>0.169544</td>\n",
       "      <td>0.00</td>\n",
       "      <td>0.00</td>\n",
       "      <td>0.0</td>\n",
       "      <td>0.00</td>\n",
       "      <td>1.0</td>\n",
       "    </tr>\n",
       "    <tr>\n",
       "      <th>prevalentStroke</th>\n",
       "      <td>4240.0</td>\n",
       "      <td>0.005896</td>\n",
       "      <td>0.076569</td>\n",
       "      <td>0.00</td>\n",
       "      <td>0.00</td>\n",
       "      <td>0.0</td>\n",
       "      <td>0.00</td>\n",
       "      <td>1.0</td>\n",
       "    </tr>\n",
       "    <tr>\n",
       "      <th>prevalentHyp</th>\n",
       "      <td>4240.0</td>\n",
       "      <td>0.310613</td>\n",
       "      <td>0.462799</td>\n",
       "      <td>0.00</td>\n",
       "      <td>0.00</td>\n",
       "      <td>0.0</td>\n",
       "      <td>1.00</td>\n",
       "      <td>1.0</td>\n",
       "    </tr>\n",
       "    <tr>\n",
       "      <th>diabetes</th>\n",
       "      <td>4240.0</td>\n",
       "      <td>0.025708</td>\n",
       "      <td>0.158280</td>\n",
       "      <td>0.00</td>\n",
       "      <td>0.00</td>\n",
       "      <td>0.0</td>\n",
       "      <td>0.00</td>\n",
       "      <td>1.0</td>\n",
       "    </tr>\n",
       "    <tr>\n",
       "      <th>totChol</th>\n",
       "      <td>4190.0</td>\n",
       "      <td>236.699523</td>\n",
       "      <td>44.591284</td>\n",
       "      <td>107.00</td>\n",
       "      <td>206.00</td>\n",
       "      <td>234.0</td>\n",
       "      <td>263.00</td>\n",
       "      <td>696.0</td>\n",
       "    </tr>\n",
       "    <tr>\n",
       "      <th>sysBP</th>\n",
       "      <td>4240.0</td>\n",
       "      <td>132.354599</td>\n",
       "      <td>22.033300</td>\n",
       "      <td>83.50</td>\n",
       "      <td>117.00</td>\n",
       "      <td>128.0</td>\n",
       "      <td>144.00</td>\n",
       "      <td>295.0</td>\n",
       "    </tr>\n",
       "    <tr>\n",
       "      <th>diaBP</th>\n",
       "      <td>4240.0</td>\n",
       "      <td>82.897759</td>\n",
       "      <td>11.910394</td>\n",
       "      <td>48.00</td>\n",
       "      <td>75.00</td>\n",
       "      <td>82.0</td>\n",
       "      <td>90.00</td>\n",
       "      <td>142.5</td>\n",
       "    </tr>\n",
       "    <tr>\n",
       "      <th>BMI</th>\n",
       "      <td>4221.0</td>\n",
       "      <td>25.800801</td>\n",
       "      <td>4.079840</td>\n",
       "      <td>15.54</td>\n",
       "      <td>23.07</td>\n",
       "      <td>25.4</td>\n",
       "      <td>28.04</td>\n",
       "      <td>56.8</td>\n",
       "    </tr>\n",
       "    <tr>\n",
       "      <th>heartRate</th>\n",
       "      <td>4239.0</td>\n",
       "      <td>75.878981</td>\n",
       "      <td>12.025348</td>\n",
       "      <td>44.00</td>\n",
       "      <td>68.00</td>\n",
       "      <td>75.0</td>\n",
       "      <td>83.00</td>\n",
       "      <td>143.0</td>\n",
       "    </tr>\n",
       "    <tr>\n",
       "      <th>glucose</th>\n",
       "      <td>3852.0</td>\n",
       "      <td>81.963655</td>\n",
       "      <td>23.954335</td>\n",
       "      <td>40.00</td>\n",
       "      <td>71.00</td>\n",
       "      <td>78.0</td>\n",
       "      <td>87.00</td>\n",
       "      <td>394.0</td>\n",
       "    </tr>\n",
       "    <tr>\n",
       "      <th>TenYearCHD</th>\n",
       "      <td>4240.0</td>\n",
       "      <td>0.151887</td>\n",
       "      <td>0.358953</td>\n",
       "      <td>0.00</td>\n",
       "      <td>0.00</td>\n",
       "      <td>0.0</td>\n",
       "      <td>0.00</td>\n",
       "      <td>1.0</td>\n",
       "    </tr>\n",
       "  </tbody>\n",
       "</table>\n",
       "</div>"
      ],
      "text/plain": [
       "                  count        mean        std     min     25%    50%     75%  \\\n",
       "sex              4240.0    0.429245   0.495027    0.00    0.00    0.0    1.00   \n",
       "age              4240.0   49.580189   8.572942   32.00   42.00   49.0   56.00   \n",
       "education        4135.0    1.979444   1.019791    1.00    1.00    2.0    3.00   \n",
       "currentSmoker    4240.0    0.494104   0.500024    0.00    0.00    0.0    1.00   \n",
       "cigsPerDay       4211.0    9.005937  11.922462    0.00    0.00    0.0   20.00   \n",
       "BPMeds           4187.0    0.029615   0.169544    0.00    0.00    0.0    0.00   \n",
       "prevalentStroke  4240.0    0.005896   0.076569    0.00    0.00    0.0    0.00   \n",
       "prevalentHyp     4240.0    0.310613   0.462799    0.00    0.00    0.0    1.00   \n",
       "diabetes         4240.0    0.025708   0.158280    0.00    0.00    0.0    0.00   \n",
       "totChol          4190.0  236.699523  44.591284  107.00  206.00  234.0  263.00   \n",
       "sysBP            4240.0  132.354599  22.033300   83.50  117.00  128.0  144.00   \n",
       "diaBP            4240.0   82.897759  11.910394   48.00   75.00   82.0   90.00   \n",
       "BMI              4221.0   25.800801   4.079840   15.54   23.07   25.4   28.04   \n",
       "heartRate        4239.0   75.878981  12.025348   44.00   68.00   75.0   83.00   \n",
       "glucose          3852.0   81.963655  23.954335   40.00   71.00   78.0   87.00   \n",
       "TenYearCHD       4240.0    0.151887   0.358953    0.00    0.00    0.0    0.00   \n",
       "\n",
       "                   max  \n",
       "sex                1.0  \n",
       "age               70.0  \n",
       "education          4.0  \n",
       "currentSmoker      1.0  \n",
       "cigsPerDay        70.0  \n",
       "BPMeds             1.0  \n",
       "prevalentStroke    1.0  \n",
       "prevalentHyp       1.0  \n",
       "diabetes           1.0  \n",
       "totChol          696.0  \n",
       "sysBP            295.0  \n",
       "diaBP            142.5  \n",
       "BMI               56.8  \n",
       "heartRate        143.0  \n",
       "glucose          394.0  \n",
       "TenYearCHD         1.0  "
      ]
     },
     "execution_count": 27,
     "metadata": {},
     "output_type": "execute_result"
    }
   ],
   "source": [
    "#Statistical description of all the columns present in the dataset.\n",
    "df.describe(include='all').T"
   ]
  },
  {
   "cell_type": "markdown",
   "metadata": {
    "id": "uWNImBIw1ttR"
   },
   "source": [
    "## **Data Cleansing**\n",
    "\n",
    "*Data cleansing, also referred to as data cleaning or data scrubbing, is the process of fixing incorrect, incomplete, duplicate or otherwise erroneous data in a data set. It involves identifying data errors and then changing, updating or removing data to correct them. Data cleansing improves data quality and helps provide more accurate, consistent and reliable information for decision-making in an organization.*"
   ]
  },
  {
   "cell_type": "markdown",
   "metadata": {
    "id": "892kQa2x-Cnz"
   },
   "source": [
    "**Before proceeding further, let's rename our columns for a better understanding and better efficiency.**"
   ]
  },
  {
   "cell_type": "code",
   "execution_count": 28,
   "metadata": {
    "id": "VSquY5HvrfrL"
   },
   "outputs": [],
   "source": [
    "#Renaming the columns for a better view and understanding.\n",
    "df.rename(columns={'sex':'Gender','currentSmoker':'smoking','cigsPerDay':'cigarettes/day','BPMeds':'BP_meds',\n",
    "                   'prevalentStroke':'stroke','prevalentHyp':'hypertensive',\n",
    "                   'totChol':'total_cholesterol','sysBP':'systolic_bp','diaBP':'diastolic_bp',\n",
    "                   'BMI':'bmi','heartRate':'heart_rate','TenYearCHD':'10yearCHD'},\n",
    "          inplace = True)"
   ]
  },
  {
   "cell_type": "code",
   "execution_count": 29,
   "metadata": {
    "colab": {
     "base_uri": "https://localhost:8080/"
    },
    "id": "ADpLLxbPDLfS",
    "outputId": "8f659245-4ab7-44bb-f8df-c1a6702f2b16"
   },
   "outputs": [
    {
     "data": {
      "text/plain": [
       "Index(['Gender', 'age', 'education', 'smoking', 'cigarettes/day', 'BP_meds',\n",
       "       'stroke', 'hypertensive', 'diabetes', 'total_cholesterol',\n",
       "       'systolic_bp', 'diastolic_bp', 'bmi', 'heart_rate', 'glucose',\n",
       "       '10yearCHD'],\n",
       "      dtype='object')"
      ]
     },
     "execution_count": 29,
     "metadata": {},
     "output_type": "execute_result"
    }
   ],
   "source": [
    "#Checking the updated names of the columns.\n",
    "df.columns"
   ]
  },
  {
   "cell_type": "markdown",
   "metadata": {
    "id": "tOrci8LqDh4j"
   },
   "source": [
    "***Lets start checking the duplicates and null values  with a suitable treatment afterwards.***"
   ]
  },
  {
   "cell_type": "markdown",
   "metadata": {
    "id": "5oJQnUf_D0mk"
   },
   "source": [
    "### **Duplicates:**"
   ]
  },
  {
   "cell_type": "code",
   "execution_count": 30,
   "metadata": {
    "colab": {
     "base_uri": "https://localhost:8080/"
    },
    "id": "fzn9DVjpoSdi",
    "outputId": "58ed90a0-0bcd-49b6-e581-b9f92c7dd7aa"
   },
   "outputs": [
    {
     "name": "stdout",
     "output_type": "stream",
     "text": [
      "There are 0 duplicate values.\n"
     ]
    }
   ],
   "source": [
    "#Checking for the duplicated entries in the dataset.\n",
    "MissV = len(df[df.duplicated()])\n",
    "print(\"There are\",MissV, \"duplicate values.\")"
   ]
  },
  {
   "cell_type": "markdown",
   "metadata": {
    "id": "aNOUAtLeyPnD"
   },
   "source": [
    "***As we can see that there are no duplicates present in the dataset but let's check if we have any missing values.***"
   ]
  },
  {
   "cell_type": "markdown",
   "metadata": {
    "id": "GZQpaGCuD56F"
   },
   "source": [
    "### **Missing values:**"
   ]
  },
  {
   "cell_type": "code",
   "execution_count": 31,
   "metadata": {
    "colab": {
     "base_uri": "https://localhost:8080/"
    },
    "id": "OxYk-05un-X5",
    "outputId": "d273ce16-f87b-41e1-fd94-75d647a30879"
   },
   "outputs": [
    {
     "name": "stdout",
     "output_type": "stream",
     "text": [
      "Total missig values in Gender : 0\n",
      "Total missig values in age : 0\n",
      "Total missig values in education : 105\n",
      "Total missig values in smoking : 0\n",
      "Total missig values in cigarettes/day : 29\n",
      "Total missig values in BP_meds : 53\n",
      "Total missig values in stroke : 0\n",
      "Total missig values in hypertensive : 0\n",
      "Total missig values in diabetes : 0\n",
      "Total missig values in total_cholesterol : 50\n",
      "Total missig values in systolic_bp : 0\n",
      "Total missig values in diastolic_bp : 0\n",
      "Total missig values in bmi : 19\n",
      "Total missig values in heart_rate : 1\n",
      "Total missig values in glucose : 388\n",
      "Total missig values in 10yearCHD : 0\n"
     ]
    }
   ],
   "source": [
    "#Sum of all the null values present in each column.\n",
    "for i in df.columns.tolist():\n",
    "  print(\"Total missig values in\",i,\":\",df[i].isna().sum())"
   ]
  },
  {
   "cell_type": "code",
   "execution_count": 32,
   "metadata": {
    "colab": {
     "base_uri": "https://localhost:8080/"
    },
    "id": "OUXa-r3ioJJX",
    "outputId": "5eef661b-a994-4166-891a-527ab4b4d7be"
   },
   "outputs": [
    {
     "name": "stdout",
     "output_type": "stream",
     "text": [
      "Overall missing values are 645\n"
     ]
    }
   ],
   "source": [
    "#Sum of the null values overall.\n",
    "print(\"Overall missing values are\",df.isna().sum().sum())"
   ]
  },
  {
   "cell_type": "markdown",
   "metadata": {
    "id": "-SjHJ3eshKaW"
   },
   "source": [
    "*We can be more clear on the exact portion, once we see a percentage distribution of null value counts and how much they'd affect our analysis.*"
   ]
  },
  {
   "cell_type": "code",
   "execution_count": 33,
   "metadata": {
    "colab": {
     "base_uri": "https://localhost:8080/",
     "height": 551
    },
    "id": "03_HGEVMBAJu",
    "outputId": "5da49326-2222-4cd0-e92b-a1152a57abe7"
   },
   "outputs": [
    {
     "data": {
      "text/html": [
       "<div>\n",
       "<style scoped>\n",
       "    .dataframe tbody tr th:only-of-type {\n",
       "        vertical-align: middle;\n",
       "    }\n",
       "\n",
       "    .dataframe tbody tr th {\n",
       "        vertical-align: top;\n",
       "    }\n",
       "\n",
       "    .dataframe thead th {\n",
       "        text-align: right;\n",
       "    }\n",
       "</style>\n",
       "<table border=\"1\" class=\"dataframe\">\n",
       "  <thead>\n",
       "    <tr style=\"text-align: right;\">\n",
       "      <th></th>\n",
       "      <th>Total</th>\n",
       "      <th>Percentage</th>\n",
       "    </tr>\n",
       "  </thead>\n",
       "  <tbody>\n",
       "    <tr>\n",
       "      <th>glucose</th>\n",
       "      <td>388</td>\n",
       "      <td>9.150943</td>\n",
       "    </tr>\n",
       "    <tr>\n",
       "      <th>education</th>\n",
       "      <td>105</td>\n",
       "      <td>2.476415</td>\n",
       "    </tr>\n",
       "    <tr>\n",
       "      <th>BP_meds</th>\n",
       "      <td>53</td>\n",
       "      <td>1.250000</td>\n",
       "    </tr>\n",
       "    <tr>\n",
       "      <th>total_cholesterol</th>\n",
       "      <td>50</td>\n",
       "      <td>1.179245</td>\n",
       "    </tr>\n",
       "    <tr>\n",
       "      <th>cigarettes/day</th>\n",
       "      <td>29</td>\n",
       "      <td>0.683962</td>\n",
       "    </tr>\n",
       "    <tr>\n",
       "      <th>bmi</th>\n",
       "      <td>19</td>\n",
       "      <td>0.448113</td>\n",
       "    </tr>\n",
       "    <tr>\n",
       "      <th>heart_rate</th>\n",
       "      <td>1</td>\n",
       "      <td>0.023585</td>\n",
       "    </tr>\n",
       "    <tr>\n",
       "      <th>Gender</th>\n",
       "      <td>0</td>\n",
       "      <td>0.000000</td>\n",
       "    </tr>\n",
       "    <tr>\n",
       "      <th>age</th>\n",
       "      <td>0</td>\n",
       "      <td>0.000000</td>\n",
       "    </tr>\n",
       "    <tr>\n",
       "      <th>smoking</th>\n",
       "      <td>0</td>\n",
       "      <td>0.000000</td>\n",
       "    </tr>\n",
       "    <tr>\n",
       "      <th>stroke</th>\n",
       "      <td>0</td>\n",
       "      <td>0.000000</td>\n",
       "    </tr>\n",
       "    <tr>\n",
       "      <th>hypertensive</th>\n",
       "      <td>0</td>\n",
       "      <td>0.000000</td>\n",
       "    </tr>\n",
       "    <tr>\n",
       "      <th>diabetes</th>\n",
       "      <td>0</td>\n",
       "      <td>0.000000</td>\n",
       "    </tr>\n",
       "    <tr>\n",
       "      <th>systolic_bp</th>\n",
       "      <td>0</td>\n",
       "      <td>0.000000</td>\n",
       "    </tr>\n",
       "    <tr>\n",
       "      <th>diastolic_bp</th>\n",
       "      <td>0</td>\n",
       "      <td>0.000000</td>\n",
       "    </tr>\n",
       "    <tr>\n",
       "      <th>10yearCHD</th>\n",
       "      <td>0</td>\n",
       "      <td>0.000000</td>\n",
       "    </tr>\n",
       "  </tbody>\n",
       "</table>\n",
       "</div>"
      ],
      "text/plain": [
       "                   Total  Percentage\n",
       "glucose              388    9.150943\n",
       "education            105    2.476415\n",
       "BP_meds               53    1.250000\n",
       "total_cholesterol     50    1.179245\n",
       "cigarettes/day        29    0.683962\n",
       "bmi                   19    0.448113\n",
       "heart_rate             1    0.023585\n",
       "Gender                 0    0.000000\n",
       "age                    0    0.000000\n",
       "smoking                0    0.000000\n",
       "stroke                 0    0.000000\n",
       "hypertensive           0    0.000000\n",
       "diabetes               0    0.000000\n",
       "systolic_bp            0    0.000000\n",
       "diastolic_bp           0    0.000000\n",
       "10yearCHD              0    0.000000"
      ]
     },
     "execution_count": 33,
     "metadata": {},
     "output_type": "execute_result"
    }
   ],
   "source": [
    "#Calculating the percentage of NULL values in each column.\n",
    "totalN = df.isna().sum().sort_values(ascending=False)\n",
    "percentage = (df.isna().sum()/df.isna().count()).sort_values(ascending=False) * 100\n",
    "missing_v = pd.concat([totalN, percentage], axis=1, keys=['Total', 'Percentage'])\n",
    "missing_v"
   ]
  },
  {
   "cell_type": "markdown",
   "metadata": {
    "id": "_KtWqFCW9LXi"
   },
   "source": [
    "*Let's Visualize the Null values for a clearer Picture.*"
   ]
  },
  {
   "cell_type": "code",
   "execution_count": 34,
   "metadata": {
    "colab": {
     "base_uri": "https://localhost:8080/",
     "height": 444
    },
    "id": "ms-Kh8tXrCX5",
    "outputId": "aaa7e694-393b-4345-f914-2288c2e86673"
   },
   "outputs": [
    {
     "ename": "ModuleNotFoundError",
     "evalue": "No module named 'missingno'",
     "output_type": "error",
     "traceback": [
      "\u001b[1;31m---------------------------------------------------------------------------\u001b[0m",
      "\u001b[1;31mModuleNotFoundError\u001b[0m                       Traceback (most recent call last)",
      "Cell \u001b[1;32mIn[34], line 2\u001b[0m\n\u001b[0;32m      1\u001b[0m \u001b[38;5;66;03m#importing missingno for visualizing the null values.\u001b[39;00m\n\u001b[1;32m----> 2\u001b[0m \u001b[38;5;28;01mimport\u001b[39;00m \u001b[38;5;21;01mmissingno\u001b[39;00m \u001b[38;5;28;01mas\u001b[39;00m \u001b[38;5;21;01mmisno\u001b[39;00m\n\u001b[0;32m      4\u001b[0m \u001b[38;5;66;03m# Visualizing the number of missing values as a bar chart\u001b[39;00m\n\u001b[0;32m      5\u001b[0m misno\u001b[38;5;241m.\u001b[39mbar(df,color\u001b[38;5;241m=\u001b[39m(\u001b[38;5;241m1\u001b[39m, \u001b[38;5;241m0.5\u001b[39m, \u001b[38;5;241m0.5\u001b[39m),figsize\u001b[38;5;241m=\u001b[39m(\u001b[38;5;241m10\u001b[39m,\u001b[38;5;241m5\u001b[39m), fontsize\u001b[38;5;241m=\u001b[39m\u001b[38;5;241m12\u001b[39m)\n",
      "\u001b[1;31mModuleNotFoundError\u001b[0m: No module named 'missingno'"
     ]
    }
   ],
   "source": [
    "#importing missingno for visualizing the null values.\n",
    "import missingno as misno\n",
    "\n",
    "# Visualizing the number of missing values as a bar chart\n",
    "misno.bar(df,color=(1, 0.5, 0.5),figsize=(10,5), fontsize=12)"
   ]
  },
  {
   "cell_type": "markdown",
   "metadata": {
    "id": "y1fIi45vyOQW"
   },
   "source": [
    "*This bar chart is clearly showing that **glucose** and **education** have the most significant null values which can majorly affect our model building process and can also affect the predictions later.*\n",
    "\n",
    "*But the major problem with these null values ​​is that they cannot be estimated from other data inputs. This dataset is from **medical domain**, but the entries in this data are **person-specific** and the values ​​vary from person to person.The chances of two people sharing the same health statistic are very rare.So,we will be removing all the null values of all the features.*\n",
    "\n",
    "***It could have been imposed by using subtle techniques like KNNImputer, but that might not be as accurate because the other inputs are used to extrapolate null. What is being discussed is nevermore the ideal approach for this type of data.***"
   ]
  },
  {
   "cell_type": "markdown",
   "metadata": {
    "id": "gOU_HCptCUO6"
   },
   "source": [
    "# **Feature Engineering and EDA**\n",
    "\n",
    "*Feature engineering is the process of selecting, manipulating, and transforming raw data into features that can be used in supervised learning. In order to make machine learning work well on new tasks, it might be necessary to design and train better features.*\n",
    "\n",
    "*Feature engineering consists of various process like*\n",
    "\n",
    "*   **Feature Creation**\n",
    "*   **Transformations**\n",
    "*   **Feature Extraction**\n",
    "\n",
    "*Feature Engineering is a very important step in machine learning. Feature engineering refers to the process of designing artificial features into an algorithm.*\n",
    "\n",
    "***Exploratory Data Analysis*** refers to the critical process of performing initial investigations on data so as to discover patterns,to spot anomalies,to test hypothesis and to check assumptions with the help of summary statistics and graphical representations.*\n",
    "\n",
    "*It’s a scientific approach to get the story of the data.It focuses more narrowly on checking assumptions required for model fitting and hypothesis testing. It also helps while handling missing values and making transformations of variables as needed.*\n",
    "\n"
   ]
  },
  {
   "cell_type": "markdown",
   "metadata": {
    "id": "pmiJauGQEv7-"
   },
   "source": [
    "## ***Encoding:***\n",
    "*We are encoding out Categorical feature values into binary values for a better model training and prediction.*\n",
    "*A Binary Data is a Data which uses two possible states or values i.e. 0 and 1.*\n",
    "\n",
    "\n",
    "*   *The (0 and 1) also referred to as (true and false), (success and failure), (yes and no) etc.*\n",
    "\n",
    "*   *Binary Data is a discrete Data and also used in statistics.*\n",
    "\n",
    "\n",
    "***We don't need encoding as all values are numerical***\n",
    "\n",
    "\n"
   ]
  },
  {
   "cell_type": "markdown",
   "metadata": {
    "id": "g2GUHGDNXNqA"
   },
   "source": [
    "*Since, It's very clear by  finding out all the unique values in the dataset that there are multiple continuous and categorical features present. we will be seperating categorical and numerical for better exploration and analysis.*"
   ]
  },
  {
   "cell_type": "markdown",
   "metadata": {},
   "source": [
    "### Splitting the Data into Categorical and Numerical Variables\n"
   ]
  },
  {
   "cell_type": "code",
   "execution_count": null,
   "metadata": {},
   "outputs": [],
   "source": [
    "#Check Unique Values for each variable.\n",
    "for i in df.columns.tolist():\n",
    "  print(i,\":\",df[i].nunique())"
   ]
  },
  {
   "cell_type": "markdown",
   "metadata": {},
   "source": [
    "Since, It's very clear by finding out all the unique values in the dataset that there are multiple continuous and categorical features present. we will be seperating categorical and numerical for better exploration and analysis."
   ]
  },
  {
   "cell_type": "code",
   "execution_count": null,
   "metadata": {},
   "outputs": [],
   "source": [
    "\n",
    "#Extracting categorical features.\n",
    "\n",
    "cat_features = ['education','Gender','smoking','BP_meds','stroke','hypertensive','diabetes']\n",
    "print(f'There are {len(cat_features)} Categorical Features.')"
   ]
  },
  {
   "cell_type": "code",
   "execution_count": null,
   "metadata": {},
   "outputs": [],
   "source": [
    "#All the Categorical features.\n",
    "cat_features"
   ]
  },
  {
   "cell_type": "code",
   "execution_count": null,
   "metadata": {},
   "outputs": [],
   "source": [
    "\n",
    "#head of the Categorical columns.\n",
    "df[cat_features].head()"
   ]
  },
  {
   "cell_type": "code",
   "execution_count": null,
   "metadata": {},
   "outputs": [],
   "source": [
    "#Extracting numerical features.\n",
    "\n",
    "num_features = ['age','cigarettes/day','total_cholesterol','systolic_bp','diastolic_bp','bmi','heart_rate','glucose']\n",
    "print(f'There are {len(num_features)} Numerical Features.')"
   ]
  },
  {
   "cell_type": "code",
   "execution_count": null,
   "metadata": {},
   "outputs": [],
   "source": [
    "\n",
    "#All the numerical features.\n",
    "num_features"
   ]
  },
  {
   "cell_type": "code",
   "execution_count": null,
   "metadata": {},
   "outputs": [],
   "source": [
    "\n",
    "#first five rows of numerical columns.\n",
    "df[num_features].head()"
   ]
  },
  {
   "cell_type": "markdown",
   "metadata": {
    "id": "S_blD3p5UXeG"
   },
   "source": [
    "# **Handling Missing Values**\n",
    "\n",
    "*Handling the missing values is one of the greatest challenges faced by analysts, because making the right decision on how to handle it generates robust data models.*\n",
    "\n",
    "*Let us look at different ways of imputing the missing values*\n",
    "\n",
    "1.   **Deleting Rows**\n",
    "2.   **Replacing With Mean/Median/Mode**\n",
    "3.   **Assigning An Unique Category**\n",
    "4.**Nearest Neighbors Imputations (KNNImputer)**\n",
    "\n",
    "*We will be using the **first(1)** and **Fourth(4)** way.*\n",
    "\n"
   ]
  },
  {
   "cell_type": "markdown",
   "metadata": {
    "id": "AazvwhzFhKpO"
   },
   "source": [
    "## ***Dropping All the Null Values:***\n",
    "\n",
    "*Dropping all the missing values from the columns, It will not be a good idea to treat these columns with other popular techniques because of the nature and sensitivity of this dataset. It will not be quite justified the treatment. The best treatment is just dropping them.*"
   ]
  },
  {
   "cell_type": "markdown",
   "metadata": {
    "id": "OOap9Hpxb6QS"
   },
   "source": [
    "### **Before**"
   ]
  },
  {
   "cell_type": "code",
   "execution_count": null,
   "metadata": {
    "colab": {
     "base_uri": "https://localhost:8080/"
    },
    "id": "3yqR4F8RjcyG",
    "outputId": "a96a23b2-d9cc-426b-e3ff-3c14d689beb1"
   },
   "outputs": [],
   "source": [
    "#Checking the null count before removal of the null values.\n",
    "df[['cigarettes/day','BP_meds','total_cholesterol','bmi','heart_rate','glucose']].isna().sum()"
   ]
  },
  {
   "cell_type": "code",
   "execution_count": null,
   "metadata": {
    "id": "E5aMmvuHpDr3"
   },
   "outputs": [],
   "source": [
    "#Dropping the null values from the data.\n",
    "df.dropna(subset=['cigarettes/day','BP_meds','total_cholesterol','bmi','heart_rate','glucose'],inplace= True)"
   ]
  },
  {
   "cell_type": "markdown",
   "metadata": {
    "id": "SrnPqC5gj7G9"
   },
   "source": [
    "## **After**"
   ]
  },
  {
   "cell_type": "code",
   "execution_count": null,
   "metadata": {
    "colab": {
     "base_uri": "https://localhost:8080/"
    },
    "id": "UYdqd-7oj0Wn",
    "outputId": "853f85cd-39c3-43cc-f597-8a3693a56c08"
   },
   "outputs": [],
   "source": [
    "#Checking the null count after removal of the null values.\n",
    "df[['cigarettes/day','BP_meds','total_cholesterol','bmi','heart_rate','glucose']].isna().sum()"
   ]
  },
  {
   "cell_type": "markdown",
   "metadata": {
    "id": "SRQ9fsD8FdAr"
   },
   "source": [
    "***We have dropped education here beacause dropping only the missing values removes whole row and it will lead to shrink the data as we already have small dataset.So,We will be dropping the education column since it is not directly related with our target feature.***"
   ]
  },
  {
   "cell_type": "code",
   "execution_count": null,
   "metadata": {
    "id": "GEJN7EcqtYOX"
   },
   "outputs": [],
   "source": [
    "# #Dropping Education from the dataset.\n",
    "df.drop(['education'], axis=1, inplace=True)"
   ]
  },
  {
   "cell_type": "code",
   "execution_count": null,
   "metadata": {
    "colab": {
     "base_uri": "https://localhost:8080/"
    },
    "id": "GAfCLdKGqm0P",
    "outputId": "e05880cd-57fc-4d23-969a-cab0b6e20bf0"
   },
   "outputs": [],
   "source": [
    "#Checking the count of null values in each column after treatment.\n",
    "df.isna().sum()"
   ]
  },
  {
   "cell_type": "markdown",
   "metadata": {
    "id": "XBSkOgwRIaGQ"
   },
   "source": [
    "*Now, Our dataset is free of null/missing values.*"
   ]
  },
  {
   "cell_type": "markdown",
   "metadata": {
    "id": "5-E536U6IE3x"
   },
   "source": [
    "## **EDA:**"
   ]
  },
  {
   "cell_type": "markdown",
   "metadata": {
    "id": "3YT-5H9ArP2j"
   },
   "source": [
    "## ***10yearCHD(Dependant Variable):***"
   ]
  },
  {
   "cell_type": "code",
   "execution_count": null,
   "metadata": {
    "colab": {
     "base_uri": "https://localhost:8080/"
    },
    "id": "YYy6MPO_q0re",
    "outputId": "11da1d83-4f43-4886-ddd6-7d77ce15bfa7"
   },
   "outputs": [],
   "source": [
    "# Checking the total people who have a risk of CHD(Coronary Heart Disease).\n",
    "df[\"10yearCHD\"].value_counts()"
   ]
  },
  {
   "cell_type": "markdown",
   "metadata": {
    "id": "4W5zM43-KFbQ"
   },
   "source": [
    "*Here, 10yearCHD signifies if the person has a risk of heart disease or not. It's a binary attribute(binary: “1”, means “Yes”, “0” means “No”) resembling the diagnosis results for patients. We can use this attribute to see how many patients have a risk of CHD.*"
   ]
  },
  {
   "cell_type": "code",
   "execution_count": null,
   "metadata": {
    "colab": {
     "base_uri": "https://localhost:8080/",
     "height": 295
    },
    "id": "0zhtjiFhrW9x",
    "outputId": "4cc5e30f-4575-4257-90c5-30d83e1c799c"
   },
   "outputs": [],
   "source": [
    "\n",
    "# plotting number of patients at risk of CHD vs those whose results are normal.\n",
    "g = sns.countplot(data=df, x='10yearCHD',palette = \"Set2\")\n",
    "g.set_xticklabels(['No Risk','Risk'])\n",
    "g.set_title('Risk of Cardiovascular Disease')\n",
    "plt.show()"
   ]
  },
  {
   "cell_type": "markdown",
   "metadata": {
    "id": "SRciESF6IpQ9"
   },
   "source": [
    "###**Observation:**\n",
    "\n",
    " *Looking at this count plot of target variable shows that\n",
    "the percentage/count of people with normal results are pretty high and this creates the problem of class imbalance. It could create problems for model to perform better because it will be overfitted with entries of normal patients and hence, It will become hard to predict for a person with a CHD because the model would be biased towards \"No Risk\".*\n",
    "\n",
    "*So we have to convert this data into a balance class, we will treat this imbalance using SMOTE, during train/test split.*"
   ]
  },
  {
   "cell_type": "markdown",
   "metadata": {
    "id": "KyWyNo_rEqxT"
   },
   "source": [
    "# **Analyzing Categorical  features:**"
   ]
  },
  {
   "cell_type": "markdown",
   "metadata": {
    "id": "ji_J1g058wA2"
   },
   "source": [
    "## **Gender**"
   ]
  },
  {
   "cell_type": "code",
   "execution_count": null,
   "metadata": {
    "colab": {
     "base_uri": "https://localhost:8080/"
    },
    "id": "KedqAkJSsuEE",
    "outputId": "f9ce77e6-4059-4a4b-85e9-01f60cba5d0a"
   },
   "outputs": [],
   "source": [
    "# Counting the number of males and females.\n",
    "df[\"Gender\"].value_counts()"
   ]
  },
  {
   "cell_type": "code",
   "execution_count": null,
   "metadata": {
    "colab": {
     "base_uri": "https://localhost:8080/",
     "height": 367
    },
    "id": "3tKxN6AJs0Tr",
    "outputId": "e7a3ac16-65b4-4e25-c8bc-491cfd45ea9e"
   },
   "outputs": [],
   "source": [
    "# Plotting the bar graph with number of males and females.\n",
    "fig, ax = plt.subplots(figsize=(10,5))\n",
    "sns.countplot(data=df, x='Gender', ax=ax, palette='pastel')\n",
    "sns.countplot(data=df, x='Gender', hue=df['10yearCHD'],ax=ax, palette='bright')\n",
    "plt.xlabel('Gender')\n",
    "plt.title('Count plot of Gender with Target Variable')"
   ]
  },
  {
   "cell_type": "markdown",
   "metadata": {
    "id": "9HR5_WwQJM3k"
   },
   "source": [
    "###**Observation:**\n",
    "\n",
    "*We can see that number of **female(0)** entries are more than **males(1)**. Since the data is a bit biased towards females, the model would be much more optimal to predict for a female patient.*"
   ]
  },
  {
   "cell_type": "markdown",
   "metadata": {
    "id": "k6_xO8Up83tj"
   },
   "source": [
    "## **smoking**\n",
    "\n",
    "*Smoking only about one cigarette per day carries a risk of developing coronary heart disease, around half that for people who smoke 20 per day. No safe level of smoking exists for cardiovascular disease.*"
   ]
  },
  {
   "cell_type": "code",
   "execution_count": null,
   "metadata": {
    "colab": {
     "base_uri": "https://localhost:8080/"
    },
    "id": "aU7HIOmeuGh9",
    "outputId": "fbacee80-6bbf-4fc9-a82c-a289efe4c375"
   },
   "outputs": [],
   "source": [
    "# Counting the number of smokers and non-smokers.(Yes = 1,No = 0)\n",
    "df[\"smoking\"].value_counts()"
   ]
  },
  {
   "cell_type": "markdown",
   "metadata": {
    "id": "HjCV-bA5MEBs"
   },
   "source": [
    "*Almost the same number of entries by smokers and non- smokers. This feature is  the ideal type since, it will not create any imbalance in class and it won't create any kind of bias*"
   ]
  },
  {
   "cell_type": "code",
   "execution_count": null,
   "metadata": {
    "colab": {
     "base_uri": "https://localhost:8080/",
     "height": 367
    },
    "id": "JCKNJqjaut1u",
    "outputId": "4ac93b2b-f575-479c-a402-2915b6d306d3"
   },
   "outputs": [],
   "source": [
    "# Plotting number of people smoking vs not smoking.\n",
    "fig, ax = plt.subplots(figsize=(10,5))\n",
    "sns.countplot(data=df, x='smoking', ax=ax, palette='pastel')\n",
    "sns.countplot(data=df, x='smoking', hue=df['10yearCHD'],ax=ax, palette='bright')\n",
    "plt.xlabel('Smoking')\n",
    "plt.title('Count plot of Smoking with Target Variable')"
   ]
  },
  {
   "cell_type": "markdown",
   "metadata": {
    "id": "CUixsw3xM1Cd"
   },
   "source": [
    "###**Observation:**\n",
    "\n",
    "*From this plot we can conclude that, the **non-smokers(0)** are at slightly lower risk of getting diagnosed by CHD in 10 years as compares to those who **smoke(1)**.*\n",
    "\n",
    "*Let us futher analyse how many males and females are smoking according to 'Gender' and 'smoking' features.*"
   ]
  },
  {
   "cell_type": "markdown",
   "metadata": {
    "id": "NvTRM0c989ZD"
   },
   "source": [
    "### **male smokers**"
   ]
  },
  {
   "cell_type": "code",
   "execution_count": null,
   "metadata": {
    "id": "qV2JkkKkwdWZ"
   },
   "outputs": [],
   "source": [
    "# Number of males who smokes cigarette.\n",
    "male_smokers = df.loc[(df['smoking']==1) & (df['Gender']==1)]"
   ]
  },
  {
   "cell_type": "code",
   "execution_count": null,
   "metadata": {
    "colab": {
     "base_uri": "https://localhost:8080/"
    },
    "id": "WOuDScSpwz4_",
    "outputId": "6ee6df73-9b92-4055-b2cc-e64d0bf3b30c"
   },
   "outputs": [],
   "source": [
    "#Checking for the males who are smokers.\n",
    "ms= male_smokers.shape[0]\n",
    "print(f'There are total of {ms} male smokers who at least smoke one cigarette a day.')"
   ]
  },
  {
   "cell_type": "markdown",
   "metadata": {
    "id": "hbb9FTEQ9BdW"
   },
   "source": [
    "### **female smokers**"
   ]
  },
  {
   "cell_type": "code",
   "execution_count": null,
   "metadata": {
    "id": "WTS2jjExxHMV"
   },
   "outputs": [],
   "source": [
    "# Number of females who smokes cigarette.\n",
    "female_smokers = df.loc[(df['smoking']==1) & (df['Gender']==0)]"
   ]
  },
  {
   "cell_type": "code",
   "execution_count": null,
   "metadata": {
    "colab": {
     "base_uri": "https://localhost:8080/"
    },
    "id": "J03OdAERxOlG",
    "outputId": "fd1c50ad-1f59-448c-960c-08454a06e72c"
   },
   "outputs": [],
   "source": [
    "#Checking for females who are smokers.\n",
    "fs = female_smokers.shape[0]\n",
    "print(f'There are total of {fs} female smokers who at least smoke one cigarette a day.')"
   ]
  },
  {
   "cell_type": "markdown",
   "metadata": {
    "id": "n-BPw4cXFCyt"
   },
   "source": [
    "*From this individual analysis we can say that although the entries by females are higher than males but the number of smokers are more in males.*"
   ]
  },
  {
   "cell_type": "markdown",
   "metadata": {
    "id": "GXFK1YkWUrn7"
   },
   "source": [
    "### **BP_meds:**\n",
    "\n",
    "*Blood pressure is the pressure of circulating blood against the walls of blood vessels. Most of this pressure results from the heart pumping blood through the circulatory system. When used without qualification, the term \"blood pressure\" refers to the pressure in the large arteries.*"
   ]
  },
  {
   "cell_type": "code",
   "execution_count": null,
   "metadata": {
    "colab": {
     "base_uri": "https://localhost:8080/"
    },
    "id": "WGlNzLKpUyYu",
    "outputId": "bbbb5d3d-2195-4a14-f9f2-051bf9c9f5e0"
   },
   "outputs": [],
   "source": [
    "#Checking the value count of patients who have and have not experienced stroke in the past.\n",
    "df[\"BP_meds\"].value_counts()"
   ]
  },
  {
   "cell_type": "code",
   "execution_count": null,
   "metadata": {
    "colab": {
     "base_uri": "https://localhost:8080/",
     "height": 368
    },
    "id": "QRR3zWaTU-5E",
    "outputId": "fb84ff22-add3-415d-f787-b6d4a287016f"
   },
   "outputs": [],
   "source": [
    "#Plotting the count plot for patients who take BP meds vs patients who do not take BP meds with target variable.\n",
    "fig, ax = plt.subplots(figsize=(10,5))\n",
    "sns.countplot(data=df, x='BP_meds', ax=ax, palette='pastel')\n",
    "sns.countplot(data=df, x='BP_meds', hue=df['10yearCHD'],ax=ax, palette='bright')\n",
    "plt.xlabel('BP_meds')\n",
    "plt.title('Count plot of BP_meds with Target Variable')"
   ]
  },
  {
   "cell_type": "markdown",
   "metadata": {
    "id": "8v85YG9GVZb2"
   },
   "source": [
    "### **Observation:**\n",
    "*From the above graph we can see that the count of patients who take BP meds are higher,and out of those maximum patients have less chance  of CHD but only few of them are having risk of CHD.*"
   ]
  },
  {
   "cell_type": "markdown",
   "metadata": {
    "id": "sctikvdE_fw8"
   },
   "source": [
    "## **stroke**\n",
    "\n",
    "*A stroke, sometimes called a brain attack, occurs when something blocks blood supply to part of the brain or when a blood vessel in the brain bursts.*"
   ]
  },
  {
   "cell_type": "code",
   "execution_count": null,
   "metadata": {
    "colab": {
     "base_uri": "https://localhost:8080/"
    },
    "id": "wHMXIFsn_exY",
    "outputId": "245dc9c1-09e4-4a92-e1da-74da75903fb2"
   },
   "outputs": [],
   "source": [
    "#Checking the value count of patients who have and have not experienced stroke in the past.\n",
    "df[\"stroke\"].value_counts()"
   ]
  },
  {
   "cell_type": "code",
   "execution_count": null,
   "metadata": {
    "colab": {
     "base_uri": "https://localhost:8080/",
     "height": 367
    },
    "id": "OZ_q46Er_ntS",
    "outputId": "c04f0ea7-747c-4afa-8fe3-fabdf015cd25"
   },
   "outputs": [],
   "source": [
    "#Plotting the count plot for patients who have experienced stroke vs patients who did not with target variable.\n",
    "fig, ax = plt.subplots(figsize=(10,5))\n",
    "sns.countplot(data=df, x='stroke', ax=ax, palette='pastel')\n",
    "sns.countplot(data=df, x='stroke', hue=df['10yearCHD'],ax=ax, palette='bright')\n",
    "plt.xlabel('Stroke')\n",
    "plt.title('Count plot of Stroke with Target Variable')"
   ]
  },
  {
   "cell_type": "markdown",
   "metadata": {
    "id": "hAEcdP3YFzEJ"
   },
   "source": [
    "###**Observation:**\n",
    "\n",
    "*From the value count above we can observe that the data have only 18 patients who have experienced stroke in the past, this will create a huge bias for the patients who have not experienced stroke in the past and the model will predict considering that.*"
   ]
  },
  {
   "cell_type": "markdown",
   "metadata": {
    "id": "IAV-HCQ3_5CN"
   },
   "source": [
    "## **hypertensive**\n",
    "\n",
    "*Hypertension ̶ or elevated blood pressure ̶ is a serious medical condition that significantly increases the risks of heart, brain, kidney and other diseases. An estimated 1.28 billion adults aged 30-79 years worldwide have hypertension, most (two-thirds) living in low- and middle-income countries.*"
   ]
  },
  {
   "cell_type": "code",
   "execution_count": null,
   "metadata": {
    "colab": {
     "base_uri": "https://localhost:8080/"
    },
    "id": "r-2UYdAQ_4cJ",
    "outputId": "140b1587-5a80-415c-cb99-fe40a1294132"
   },
   "outputs": [],
   "source": [
    "#Checking for the value count of the hypertensive and non-hypertensive patients.\n",
    "df[\"hypertensive\"].value_counts()"
   ]
  },
  {
   "cell_type": "code",
   "execution_count": null,
   "metadata": {
    "colab": {
     "base_uri": "https://localhost:8080/",
     "height": 367
    },
    "id": "PhIZPIrRAAQ0",
    "outputId": "57b065a4-fdfe-4efe-8dd3-2150c42a1521"
   },
   "outputs": [],
   "source": [
    "#Plotting the count plot for hypertensive  vs non-hypertensive with target variable.\n",
    "fig, ax = plt.subplots(figsize=(10,5))\n",
    "sns.countplot(data=df, x='hypertensive', ax=ax, palette='pastel')\n",
    "sns.countplot(data=df, x='hypertensive', hue=df['10yearCHD'],ax=ax, palette='bright')\n",
    "plt.xlabel('hypertensive')\n",
    "plt.title('Count plot of hypertensive with Target Variable')"
   ]
  },
  {
   "cell_type": "markdown",
   "metadata": {
    "id": "A5F3PWTNGEVl"
   },
   "source": [
    "###**Observation:**\n",
    "\n",
    "*The plot shows the count of patients who are hypertensive  is quite high than the non-hypertensive patients but by looking at both of the sides we can observe that the patients who are hypertensive are  at high risk of CHD.*"
   ]
  },
  {
   "cell_type": "markdown",
   "metadata": {
    "id": "mZD8tj_99GJ6"
   },
   "source": [
    "## **diabetes**\n",
    "\n",
    "*Diabetes is a chronic disease that occurs either when the pancreas does not produce enough insulin or when the body cannot effectively use the insulin it produces. Insulin is a hormone that regulates blood glucose.*"
   ]
  },
  {
   "cell_type": "code",
   "execution_count": null,
   "metadata": {
    "colab": {
     "base_uri": "https://localhost:8080/"
    },
    "id": "zVLjKTrOxai5",
    "outputId": "f59894a0-5dd0-4613-aee4-3a56c48aa1ac"
   },
   "outputs": [],
   "source": [
    "#Checking the value count of diabetic and non-diabetic patients.\n",
    "df[\"diabetes\"].value_counts()"
   ]
  },
  {
   "cell_type": "code",
   "execution_count": null,
   "metadata": {
    "colab": {
     "base_uri": "https://localhost:8080/",
     "height": 367
    },
    "id": "-RiS9fuSlUwx",
    "outputId": "88430b8c-44d4-49f3-c9a0-ff13f4bf3ff4"
   },
   "outputs": [],
   "source": [
    "#Plotting the count plot for diabetic vs non-diabetic patients with target variable.\n",
    "fig, ax = plt.subplots(figsize=(10,5))\n",
    "sns.countplot(data=df, x='diabetes', ax=ax, palette='pastel')\n",
    "sns.countplot(data=df, x='diabetes', hue=df['10yearCHD'],ax=ax, palette='bright')\n",
    "plt.xlabel('diabetes')\n",
    "plt.title('Count plot of diabetes with Target Variable')"
   ]
  },
  {
   "cell_type": "markdown",
   "metadata": {
    "id": "meKH8nY1GTJk"
   },
   "source": [
    "###**Observation:**\n",
    "\n",
    "*From the above graph we can see that there is a huge difference between the patients who are diabetic and non-diabetic.The dataset is biased towards the patients who are not diabetic and the number of diabetic people are very less.*"
   ]
  },
  {
   "cell_type": "markdown",
   "metadata": {
    "id": "7Sn6NX1tAat6"
   },
   "source": [
    "## **Outlier Detection**\n",
    "\n",
    "*Outlier Analysis is a process that involves identifying the anomalous observation in the dataset. Outliers are extreme values that deviates from the other observations in the dataset.*"
   ]
  },
  {
   "cell_type": "code",
   "execution_count": null,
   "metadata": {
    "colab": {
     "base_uri": "https://localhost:8080/",
     "height": 400
    },
    "id": "-OLKdX1dFmf4",
    "outputId": "1e169843-6d3b-4502-939b-8565436d3f48"
   },
   "outputs": [],
   "source": [
    "# plotting boxplot for each numerical feature to check for the outliers.\n",
    "\n",
    "plt.figure(figsize=(20,40), facecolor='white')\n",
    "plotnumber = 1\n",
    "for numerical_feature in num_features:\n",
    "    ax = plt.subplot(12,4,plotnumber)\n",
    "    sns.boxplot(df[numerical_feature], )\n",
    "    plt.xlabel(numerical_feature)\n",
    "    plotnumber += 1\n",
    "plt.show()"
   ]
  },
  {
   "cell_type": "markdown",
   "metadata": {
    "id": "LWpPFuF_XA0i"
   },
   "source": [
    "*We can see a lot of outliers in columns like, **total_cholesterol, systolic_bp, diastolic_bp, bmi, glucose,** etc. As stated before we can't manipulate data in such way that we change the original patient stats, neither we can entirely drop those entries with outliers. This will lead to huge amount of data loss, We would lose meaningful data in order to achieve accurate predictions. The best solution to this could only be, to drop the rows with such outliers with minimal data loss.*\n",
    "\n"
   ]
  },
  {
   "cell_type": "markdown",
   "metadata": {
    "id": "CZPiD0GQnokU"
   },
   "source": [
    "##**Removing the borderline outliers**"
   ]
  },
  {
   "cell_type": "markdown",
   "metadata": {
    "id": "-GVrqN_4XyH8"
   },
   "source": [
    "*Removing the borderline outliers, We'll try to be considerate and only drop values that do not make any sense or unlikely to occur.*"
   ]
  },
  {
   "cell_type": "code",
   "execution_count": null,
   "metadata": {
    "id": "grJiucGzAq2K"
   },
   "outputs": [],
   "source": [
    "# Removing values of Cigarette per day greater than 50.\n",
    "df = df[df[\"cigarettes/day\"] <= 50]\n",
    "# Removing values of DiaBp greater than 140.\n",
    "df = df[df['diastolic_bp'] <= 140]\n",
    "# Removing values of SysBP greater than 250.\n",
    "df = df[df['systolic_bp'] <= 250]\n",
    "# Removing values of BMI greater than 50.\n",
    "df = df[df['bmi'] <= 50]\n",
    "# Removing values of heart rate greater than 130.\n",
    "df = df[df[\"heart_rate\"] <= 130]\n",
    "# Removing values of glucose greater than 300.\n",
    "df = df[df[\"glucose\"] <= 300]\n",
    "# Removing values of total cholesterol greater than 500.\n",
    "df = df[df[\"total_cholesterol\"] <= 500]"
   ]
  },
  {
   "cell_type": "code",
   "execution_count": null,
   "metadata": {
    "colab": {
     "base_uri": "https://localhost:8080/",
     "height": 400
    },
    "id": "bBe8q6__A60I",
    "outputId": "5f5de355-64f5-4c24-a844-cea9af7f4cdf"
   },
   "outputs": [],
   "source": [
    "# plotting boxplot for each numerical feature to check for the outliers.\n",
    "\n",
    "plt.figure(figsize=(20,40), facecolor='white')\n",
    "plotnumber = 1\n",
    "for numerical_feature in num_features:\n",
    "    ax = plt.subplot(12,4,plotnumber)\n",
    "    sns.boxplot(df[numerical_feature], )\n",
    "    plt.xlabel(numerical_feature)\n",
    "    plotnumber += 1\n",
    "plt.show()"
   ]
  },
  {
   "cell_type": "markdown",
   "metadata": {
    "id": "Lge_cDzVX3jE"
   },
   "source": [
    "*Now,we again plotted boxplot after dropping rows with borderline outliers.*"
   ]
  },
  {
   "cell_type": "code",
   "execution_count": null,
   "metadata": {
    "colab": {
     "base_uri": "https://localhost:8080/"
    },
    "id": "txCLAs8cTs_W",
    "outputId": "8332dbec-079d-428f-c321-769dc4d972c2"
   },
   "outputs": [],
   "source": [
    "#Information after removing the borderline outliers.\n",
    "df.info()"
   ]
  },
  {
   "cell_type": "markdown",
   "metadata": {
    "id": "JGKOG0gZzyH9"
   },
   "source": [
    "# **Bivariate Analysis**"
   ]
  },
  {
   "cell_type": "markdown",
   "metadata": {
    "id": "_bf90j7oYmT5"
   },
   "source": [
    "*Bivariate analysis is stated to be an analysis of any concurrent relation between two variables or attributes. This study explores the relationship of two variables as well as the depth of this relationship to figure out if there are any discrepancies between two variables and any causes of this difference.*\n",
    "\n",
    "*Here we have shown relationships of **target variable** with all the **numerical variables**.*"
   ]
  },
  {
   "cell_type": "markdown",
   "metadata": {
    "id": "QDA82W81AqzD"
   },
   "source": [
    "## **Age**"
   ]
  },
  {
   "cell_type": "code",
   "execution_count": null,
   "metadata": {
    "colab": {
     "base_uri": "https://localhost:8080/",
     "height": 367
    },
    "id": "5l0a-idYdSyq",
    "outputId": "c1fadc2b-0741-48fc-b959-c98ee43e63e2"
   },
   "outputs": [],
   "source": [
    "#Plotting count plot of age with target variable.\n",
    "fig, ax = plt.subplots(figsize=(10,5))\n",
    "sns.countplot(data=df, x='age', ax=ax, palette='pastel')\n",
    "sns.countplot(data=df, x='age', hue=df['10yearCHD'],ax=ax, palette='bright')\n",
    "plt.xlabel('Age')\n",
    "plt.title('Count plot of Age with Target Variable')"
   ]
  },
  {
   "cell_type": "markdown",
   "metadata": {
    "id": "p1bYJf4qM-Vg"
   },
   "source": [
    "### **Observation:**\n",
    "\n",
    "*In this graph we can see that,between 32 to 40 there is less chance of CHDs.*\n",
    "\n",
    "*After 40 there is an increase in CHDs and between 51 to 63 the graph shows  highest chance of CHDs and after 63 the chance of CHDs is Decreasing as age increases.*"
   ]
  },
  {
   "cell_type": "markdown",
   "metadata": {
    "id": "0iUAkKoVWLEE"
   },
   "source": [
    "## **BMI**\n",
    "<font color =\"green\">*The BMI is defined as the body mass divided by the square of the body height, and is expressed in units of kg/m².*</font>\n",
    "\n",
    "*Being overweight or obese increases your risk of developing diabetes and high blood pressure, both of which are risk factors for CVD.*"
   ]
  },
  {
   "cell_type": "markdown",
   "metadata": {
    "id": "MRUTNDrioFud"
   },
   "source": [
    "![what-is-your-bmi-graphics.png](data:image/png;base64,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)"
   ]
  },
  {
   "cell_type": "markdown",
   "metadata": {
    "id": "WXJMLFzXVout"
   },
   "source": [
    "**If your BMI is:**\n",
    "\n",
    "* below 18.5 – you're in the underweight range\n",
    "* between 18.5 and 24.9 – you're in the healthy weight range\n",
    "* between 25 and 29.9 – you're in the overweight range\n",
    "* between 30 and 39.9 – you're in the obese range"
   ]
  },
  {
   "cell_type": "code",
   "execution_count": null,
   "metadata": {
    "colab": {
     "base_uri": "https://localhost:8080/",
     "height": 532
    },
    "id": "ugFc9fwcuqec",
    "outputId": "3006a296-8604-4b4a-d84f-321a1fd9dcbf"
   },
   "outputs": [],
   "source": [
    "#plotting the boxplot between sex variable and BMI variable with target class\n",
    "plt.figure(figsize=(12,8))\n",
    "sns.violinplot(data=df,x=\"Gender\", y='bmi',hue=\"10yearCHD\",palette = 'magma')\n",
    "plt.title(\"Distributions of BMI Vs Gender with Target class\",fontsize=15)"
   ]
  },
  {
   "cell_type": "markdown",
   "metadata": {
    "id": "vdTWKA4WMsKh"
   },
   "source": [
    "### **Observation:**\n",
    "\n",
    "*In this above plot on x axis 0 represents female and 1 represents male, we can say that Female BMI is more than male BMI that leads to overweight.So,Female CHD is more than male CHD in our dataset.*"
   ]
  },
  {
   "cell_type": "markdown",
   "metadata": {
    "id": "zYH8erajKp5n"
   },
   "source": [
    "# **cigarettes/day**"
   ]
  },
  {
   "cell_type": "code",
   "execution_count": null,
   "metadata": {
    "colab": {
     "base_uri": "https://localhost:8080/",
     "height": 367
    },
    "id": "Me00npBMKyOB",
    "outputId": "5adf493b-d430-46ad-a6b7-f175dbbe2ed5"
   },
   "outputs": [],
   "source": [
    "#Plotting count plot of 'cigarettes/day' with target variable.\n",
    "fig, ax = plt.subplots(figsize=(10,5))\n",
    "sns.countplot(data=df, x='cigarettes/day', ax=ax, palette='pastel')\n",
    "sns.countplot(data=df, x='cigarettes/day', hue=df['10yearCHD'],ax=ax, palette='bright')\n",
    "plt.xlabel('cigarettes/day')\n",
    "plt.title('Count plot of Age with Target Variable')"
   ]
  },
  {
   "cell_type": "markdown",
   "metadata": {
    "id": "Us-K_vwdM-aE"
   },
   "source": [
    "### **Observation:**\n",
    "\n"
   ]
  },
  {
   "cell_type": "markdown",
   "metadata": {
    "id": "H_yrboH9oNr6"
   },
   "source": [
    "## **Total_Cholesterol**\n",
    "\n",
    "*Cholesterol is a fatty substance found in the blood. If you have high cholesterol, it can cause your blood vessels to narrow and increase your risk of developing a blood clot.*\n",
    "\n",
    "* High cholesterol is when you have too much of a fatty substance called cholesterol in your blood.\n",
    "* It's mainly caused by eating fatty food, not exercising enough, being overweight, smoking and drinking alcohol. It can also run in families.\n",
    "* You can lower your cholesterol by eating healthily and getting more exercise. Some people also need to take medicine.\n",
    "* Too much cholesterol can block your blood vessels. It makes you more likely to have heart problems or a stroke.\n",
    "* High cholesterol does not cause symptoms. You can only find out if you have it from a blood test."
   ]
  },
  {
   "cell_type": "code",
   "execution_count": null,
   "metadata": {
    "colab": {
     "base_uri": "https://localhost:8080/",
     "height": 532
    },
    "id": "wqRToUQfvOQp",
    "outputId": "047f7d11-66f8-4a6e-8dce-b4f542190ad1"
   },
   "outputs": [],
   "source": [
    "#plotting the boxplot between sex variable and totChol variable with target class\n",
    "plt.figure(figsize=(12,8))\n",
    "sns.violinplot(data=df,x=\"Gender\", y='total_cholesterol',hue=\"10yearCHD\",palette = 'crest_r')\n",
    "plt.title(\"Distributions of Gender Vs Total Cholesterol with Target class\",fontsize=15)"
   ]
  },
  {
   "cell_type": "markdown",
   "metadata": {
    "id": "B45UUMuoNMxA"
   },
   "source": [
    "### **Observation:**\n",
    "\n",
    "*Female has more cholesterol as compared to male. so, it can cause your blood vessels to narrow and increases your risk of developing a blood clot.*\n",
    "*In simple terms,more cholesterol leads to increase in CHD problems.*"
   ]
  },
  {
   "cell_type": "markdown",
   "metadata": {
    "id": "uo_69nJUohAK"
   },
   "source": [
    "## **Heart_Rate**\n",
    "\n",
    "*The number of heartbeats per unit of time, usually per minute. The heart rate is based on the number of contractions of the ventricles (the lower chambers of the heart). The heart rate may be too fast (tachycardia) or too slow (bradycardia). The pulse is a bulge of an artery from waves of blood that course through the blood vessels each time the heart beats. The pulse is often taken at the wrist to estimate the heart rate.*"
   ]
  },
  {
   "cell_type": "markdown",
   "metadata": {
    "id": "f2SCXXVmTPLc"
   },
   "source": [
    "![HR_Zone_Graphic_030722.png](data:image/png;base64,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)"
   ]
  },
  {
   "cell_type": "code",
   "execution_count": null,
   "metadata": {
    "colab": {
     "base_uri": "https://localhost:8080/",
     "height": 532
    },
    "id": "NtCFaXjowzyT",
    "outputId": "f2270a84-da60-4790-d742-4bcfec4a7d67"
   },
   "outputs": [],
   "source": [
    "#plotting the boxplot between Gender variable and heart_rate variable with target class.\n",
    "plt.figure(figsize=(12,8))\n",
    "sns.violinplot(data=df,x=\"Gender\", y='heart_rate',hue=\"10yearCHD\",palette = 'OrRd')\n",
    "plt.title(\"Distributions of Gender Vs heart_rate with Target class\",fontsize=15)"
   ]
  },
  {
   "cell_type": "markdown",
   "metadata": {
    "id": "FogzXcSYQO3w"
   },
   "source": [
    "\n",
    "### **Observation:**\n",
    "\n",
    "*As we can see the violin plot we can say that, Females have high heart rate as compared to males.*"
   ]
  },
  {
   "cell_type": "markdown",
   "metadata": {
    "id": "ePevXs2co34W"
   },
   "source": [
    "## **Glucose**\n",
    "\n",
    "*A fasting blood sugar level of 99 mg/dL or lower is normal, 100 to 125 mg/dL indicates you have prediabetes, and 126 mg/dL or higher indicates you have diabetes.*"
   ]
  },
  {
   "cell_type": "code",
   "execution_count": null,
   "metadata": {
    "colab": {
     "base_uri": "https://localhost:8080/",
     "height": 532
    },
    "id": "Lbl4PA6PxIoU",
    "outputId": "6585d50b-0d8b-48f7-ffff-73f42a6e9505"
   },
   "outputs": [],
   "source": [
    "#ploting the boxplot between sex variable and glucose variable with target class\n",
    "plt.figure(figsize=(12,8))\n",
    "sns.violinplot(data=df,x=\"Gender\", y='glucose',hue=\"10yearCHD\",palette = 'BuPu_r')\n",
    "plt.title(\"Distributions of Gender Vs glucose with Target class\",fontsize=15)"
   ]
  },
  {
   "cell_type": "markdown",
   "metadata": {
    "id": "e0qDjZnlQa-C"
   },
   "source": [
    "### **Observation:**\n",
    "\n",
    "*In the above violin plot,we can see that males with CHD has more glucose level as compared to females with CHD.*"
   ]
  },
  {
   "cell_type": "markdown",
   "metadata": {
    "id": "qoydGOiL9vqB"
   },
   "source": [
    "## **Checking Linearity**"
   ]
  },
  {
   "cell_type": "code",
   "execution_count": null,
   "metadata": {
    "colab": {
     "base_uri": "https://localhost:8080/",
     "height": 1000
    },
    "id": "pambCGW9fOmt",
    "outputId": "d347186f-8dbb-4f16-ee33-2bf0a7d3b6c3"
   },
   "outputs": [],
   "source": [
    "# Checking Linearity using Bivariate analysis.\n",
    "# list of independent variables.\n",
    "independent_variables = [i for i in df.columns if i not in ['10yearCHD']]\n",
    "\n",
    "# defining figure.\n",
    "plt.figure(figsize=(18,18))\n",
    "\n",
    "# making subplots for all independent variables vs TenYearCHD(dependent variable).\n",
    "for n, column in enumerate(df.columns ):\n",
    "  plt.subplot(5, 4, n+1)\n",
    "  sns.regplot(x = df[column], y =df['10yearCHD'],line_kws={\"color\": \"green\"})\n",
    "  plt.title(f'{column.title()} v/s 10yearCHD',weight='bold')\n",
    "  plt.tight_layout()"
   ]
  },
  {
   "cell_type": "markdown",
   "metadata": {
    "id": "sOR4AOhYaao_"
   },
   "source": [
    "### **Observation:**\n",
    "\n",
    "*From these subplots we observed that there is a Positive linearity in all of the variables in our dataset with our target variable i.e. 10yearCHD.*"
   ]
  },
  {
   "cell_type": "markdown",
   "metadata": {
    "id": "3uE1Cjavz5y4"
   },
   "source": [
    "# **Multivariate Analysis**"
   ]
  },
  {
   "cell_type": "markdown",
   "metadata": {
    "id": "Sscbef5xh_hs"
   },
   "source": [
    "*The purposes of multivariate data analysis is to study the relationships among the Provided attributes, classify the n collected samples into homogeneous groups, and make inferences about the underlying populations from the sample.*"
   ]
  },
  {
   "cell_type": "markdown",
   "metadata": {
    "id": "EKw5ettyxoHY"
   },
   "source": [
    "# **Checking for Multi-Collinearity**\n",
    "\n",
    "*Correlation heatmaps are a type of plot that visualize the strength of relationships between numerical variables. Correlation plots are used to understand which variables are related to each other and the strength of this relationship.*\n",
    "\n",
    "*A correlation plot typically contains a number of numerical variables, with each variable represented by a column. The rows represent the relationship between each pair of variables. The values in the cells indicate the strength of the relationship, with positive values indicating a positive relationship and negative values indicating a negative relationship.*"
   ]
  },
  {
   "cell_type": "code",
   "execution_count": null,
   "metadata": {
    "colab": {
     "base_uri": "https://localhost:8080/",
     "height": 899
    },
    "id": "dccLl82JfPVC",
    "outputId": "f370003a-976e-4e87-f377-7bdf8766a3a8"
   },
   "outputs": [],
   "source": [
    "# Defining a Seaborn correlation map(Heatmap).\n",
    "correlmap = df.corr()\n",
    "\n",
    "# display the heatmap.\n",
    "f, ax = plt.subplots(figsize=(14, 14))\n",
    "sns.heatmap(correlmap,cmap= 'Greens', linewidths=.5,annot=True, ax = ax,cbar=False)"
   ]
  },
  {
   "cell_type": "markdown",
   "metadata": {
    "id": "ei109L2LQP6B"
   },
   "source": [
    "## **Diastolic_bp and Systolic_bp**"
   ]
  },
  {
   "cell_type": "markdown",
   "metadata": {
    "id": "3fSqmCh4SGDv"
   },
   "source": [
    "![understanding-blood-pressure-readings.jpg](data:image/jpeg;base64,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)"
   ]
  },
  {
   "cell_type": "markdown",
   "metadata": {
    "id": "OIGAmFzvjJlg"
   },
   "source": [
    "*From the above Heatmap, We can see both of these columns are heavily correleted, there's some relationship we can establish with these two features further.*\n",
    "\n",
    "*Also Elevation of systolic blood pressure predicts the risk of cardiovascular disease better than increases in diastolic blood pressure. Although associated with more variability in measurement, systolic blood pressure is easier to determine and allows more appropriate risk stratification than diastolic blood pressure.*\n",
    "\n",
    "*We can combine these two features using the following formula:*\n",
    "\n",
    "### **MAP = (Systolic Blood Pressure + 2 x Diastolic Blood Pressure) / 3**\n",
    "*Here, MAP signifies Mean Arterial Pressure*"
   ]
  },
  {
   "cell_type": "code",
   "execution_count": null,
   "metadata": {
    "id": "VGfYB2m0f2xY"
   },
   "outputs": [],
   "source": [
    "# Calculating MAP using 'SysBP' and 'DiaBP'.\n",
    "df[\"mean_art_pressure\"] = (df[\"systolic_bp\"] + 2 * df[\"diastolic_bp\"])/3"
   ]
  },
  {
   "cell_type": "code",
   "execution_count": null,
   "metadata": {
    "id": "hnVGV0ADk4iF"
   },
   "outputs": [],
   "source": [
    "# Dropping the SysBP and DiaBp attributes, since they're both included in MAP.\n",
    "df.drop(columns = [\"systolic_bp\", \"diastolic_bp\"], inplace = True)"
   ]
  },
  {
   "cell_type": "markdown",
   "metadata": {
    "id": "k_4WqloplWXK"
   },
   "source": [
    "***Dropping Smoking***\n",
    "\n",
    "*Since, the cigarette/day column is already having the information about smokers and non-smokers, where we can define by the number of cigarettes consumed by patients.So, we will be dropping the smoking column.*\n",
    "\n",
    "*(As in cigarette/day column 0 represents patients who are non-smokers)*"
   ]
  },
  {
   "cell_type": "code",
   "execution_count": null,
   "metadata": {
    "id": "JKPCAXvAHwUx"
   },
   "outputs": [],
   "source": [
    "#Dropping the smoking.\n",
    "df.drop(columns = [\"smoking\"], inplace = True)"
   ]
  },
  {
   "cell_type": "markdown",
   "metadata": {
    "id": "KpRfVhXgnVvn"
   },
   "source": [
    "### **Checking Multi-collinearity after adjustments**"
   ]
  },
  {
   "cell_type": "code",
   "execution_count": null,
   "metadata": {
    "colab": {
     "base_uri": "https://localhost:8080/",
     "height": 911
    },
    "id": "wfNMeLnvk4fp",
    "outputId": "1cc49257-8b85-417a-e646-c00fee34b77e"
   },
   "outputs": [],
   "source": [
    "# Defining a Seaborn correlation map(Heatmap).\n",
    "correlmap = df.corr()\n",
    "\n",
    "# display the heatmap.\n",
    "f, ax = plt.subplots(figsize=(14, 14))\n",
    "sns.heatmap(correlmap,cmap= 'Greens', linewidths=.5,annot=True, ax = ax,cbar=False)"
   ]
  },
  {
   "cell_type": "markdown",
   "metadata": {
    "id": "TWNQws8eH7Hi"
   },
   "source": [
    "# **One-Hot Encoding:**\n",
    "\n",
    "*One hot encoding can be defined as the essential process of converting the categorical data variables to be provided to machine and deep learning algorithms which in turn improve predictions as well as classification accuracy of a model.*"
   ]
  },
  {
   "cell_type": "code",
   "execution_count": null,
   "metadata": {
    "id": "rUSBiNymH5iD"
   },
   "outputs": [],
   "source": [
    "#Creating dummy variables from categorical features.\n",
    "dataset = pd.get_dummies(df,columns = ['Gender','BP_meds','stroke','hypertensive','diabetes'])"
   ]
  },
  {
   "cell_type": "code",
   "execution_count": null,
   "metadata": {
    "colab": {
     "base_uri": "https://localhost:8080/",
     "height": 301
    },
    "id": "uRX7RybfIJtu",
    "outputId": "6cccc555-b2ff-4ae8-c498-c9c55a149fe5"
   },
   "outputs": [],
   "source": [
    "#Checking head after creating dummies.\n",
    "dataset.head()"
   ]
  },
  {
   "cell_type": "markdown",
   "metadata": {
    "id": "kIjhZYJpIorO"
   },
   "source": [
    "## **Final Dataset**"
   ]
  },
  {
   "cell_type": "code",
   "execution_count": null,
   "metadata": {
    "colab": {
     "base_uri": "https://localhost:8080/",
     "height": 519
    },
    "id": "otQqjk0Yk4dm",
    "outputId": "5a35c135-f751-46a5-da06-f9186caa1c67"
   },
   "outputs": [],
   "source": [
    "# Checking the dataset after all the adjustments and transformations.\n",
    "dataset"
   ]
  },
  {
   "cell_type": "code",
   "execution_count": null,
   "metadata": {
    "colab": {
     "base_uri": "https://localhost:8080/"
    },
    "id": "Scwlm9dvzxy1",
    "outputId": "1f727095-4616-421f-a4af-81a391bb29cd"
   },
   "outputs": [],
   "source": [
    "#Checking the shape of the dataset after all the transformations.\n",
    "\n",
    "dataset.shape"
   ]
  },
  {
   "cell_type": "markdown",
   "metadata": {
    "id": "rq3WyF3II_-Z"
   },
   "source": [
    "##**Graph of Imbalance**"
   ]
  },
  {
   "cell_type": "code",
   "execution_count": null,
   "metadata": {
    "colab": {
     "base_uri": "https://localhost:8080/",
     "height": 436
    },
    "id": "O0WSNtR9xx0F",
    "outputId": "21dafc0b-e17c-4232-a0b8-6e5b40a386b1"
   },
   "outputs": [],
   "source": [
    "# Plotting the pie chart to check the balance in the dataset.\n",
    "\n",
    "plt.figure(figsize=(7,5), dpi=100)\n",
    "proportion = df['10yearCHD'].value_counts()\n",
    "labels = ['SAFE','AT RISK']\n",
    "plt.title('Proportion of Safe and at Risk for Target Feature')\n",
    "plt.pie(proportion, explode=(0,0.2),labels=labels, shadow = True, autopct = '%1.1f%%', colors= ['#ff9999','#66b3ff'])\n",
    "plt.legend()\n",
    "plt.show()"
   ]
  },
  {
   "cell_type": "markdown",
   "metadata": {
    "id": "Bxp3QUYfp4US"
   },
   "source": [
    "***As we can see that our target variable is highly imbalanced.***\n",
    "\n",
    "***Majority of the data points belong to \"SAFE\"(no risk of CHD) class. Ratio of \"SAFE\" class to \"AT RISK\" class is 17:3.***"
   ]
  },
  {
   "cell_type": "code",
   "execution_count": null,
   "metadata": {
    "colab": {
     "base_uri": "https://localhost:8080/"
    },
    "id": "OvP4WJZrs3Fi",
    "outputId": "d5c35afb-0773-4bf8-eeb1-13f6c8c67cfa"
   },
   "outputs": [],
   "source": [
    "# Checking the count of the classes in the target variable.\n",
    "\n",
    "df['10yearCHD'].groupby(df['10yearCHD']).count()"
   ]
  },
  {
   "cell_type": "markdown",
   "metadata": {
    "id": "9d81cVCYsCl6"
   },
   "source": [
    "## **Scaling:**\n",
    "\n",
    "***Scaling the Numerical Variables with StandardScaler.***\n",
    "\n",
    "\n",
    "*StandardScaler is used to resize the distribution of values ​​so that the mean of the observed values ​​is 0 and the standard deviation is 1.*"
   ]
  },
  {
   "cell_type": "code",
   "execution_count": null,
   "metadata": {
    "id": "0M9PDnGkcylZ"
   },
   "outputs": [],
   "source": [
    "#Applying normalization operation for numeric stability\n",
    "\n",
    "from sklearn.preprocessing import StandardScaler\n",
    "standardizer = StandardScaler()\n",
    "columns_to_scale =  ['age','cigarettes/day','total_cholesterol','mean_art_pressure','bmi','heart_rate','glucose']\n",
    "dataset[columns_to_scale] = standardizer.fit_transform(dataset[columns_to_scale])\n",
    "\n",
    "## viewing dataset after scalling\n",
    "dataset\n"
   ]
  },
  {
   "cell_type": "markdown",
   "metadata": {
    "id": "N726gnB60c9P"
   },
   "source": [
    "## **Splitting The Data**\n",
    "\n",
    "***Train Test Split:*** *The train-test split is a technique for evaluating the performance of a machine learning algorithm.\n",
    "It can be used for classification or regression problems and can be used for any supervised learning algorithm.The procedure involves taking a dataset and dividing it into two subsets.*"
   ]
  },
  {
   "cell_type": "code",
   "execution_count": null,
   "metadata": {
    "id": "xz_cOrsTr2nc"
   },
   "outputs": [],
   "source": [
    "# Splitting the data into set of independent variables and a dependent variable.\n",
    "X = dataset.drop('10yearCHD',axis=1).values\n",
    "y = dataset['10yearCHD'].values\n",
    "\n"
   ]
  },
  {
   "cell_type": "code",
   "execution_count": null,
   "metadata": {
    "colab": {
     "base_uri": "https://localhost:8080/"
    },
    "id": "G8VPd8rWt8Ll",
    "outputId": "e708f053-9bca-45f5-9ba4-63d8e24473ee"
   },
   "outputs": [],
   "source": [
    "#Train test split\n",
    "from sklearn.model_selection import train_test_split\n",
    "# Dividing the data in training and test dataset.\n",
    "X_train, X_test, y_train, y_test = train_test_split(X, y , test_size=0.25, random_state=3,stratify=y)\n",
    "# checking the shape of our train and test data.\n",
    "print(X_train.shape)\n",
    "print(X_test.shape)\n",
    "print(y_train.shape)\n",
    "print(y_test.shape)\n",
    "\n",
    "\n"
   ]
  },
  {
   "cell_type": "code",
   "execution_count": null,
   "metadata": {
    "colab": {
     "base_uri": "https://localhost:8080/"
    },
    "id": "uAL9qDDizbi9",
    "outputId": "4cb09756-1a39-41ff-afdb-2bbad2c9cd59"
   },
   "outputs": [],
   "source": [
    "print('Original dataset shape', len(X_train))\n"
   ]
  },
  {
   "cell_type": "code",
   "execution_count": null,
   "metadata": {
    "id": "1o-g-qnAYN0T"
   },
   "outputs": [],
   "source": [
    "res_df=pd.DataFrame()"
   ]
  },
  {
   "cell_type": "markdown",
   "metadata": {
    "id": "SH_P_H9e0pD4"
   },
   "source": [
    "# **Performance Metrics**\n",
    "\n",
    "*Different performance metrics are used to evaluate machine learning model. Based on our task we can choose our performance metrics. Since our task is of classification and that too binary class classification, whether client will or will not subscribe for deposits.*\n",
    "\n",
    "*Here we will be using AUC ROC*\n",
    "\n",
    "***ROC** also known as Receiver Operating Characteristics, shows the performance of binary class classifiers across the range of all possible thresholds plotting between true positive rate and 1-false positive rate.*\n",
    "\n",
    "***AUC** measures the likelihood of two given random points, one from positive and one from negative, the classifier will rank the positive points above negative points. AUC-ROC is popular classification metric that presents the advantage of being independent of false positive or negative points.*\n",
    "\n",
    "***Secondary Performance Metrics***\n",
    "\n",
    "***Macro-F1 Score:** F1 score is the harmonic mean between Precision and Recall. Macro F1 score is used to know how our model works in overall dataset.*\n",
    "\n",
    "***Confusion Matrix:** This matrix gives the count of true negative, true positive, false positive and false negative data points.*"
   ]
  },
  {
   "cell_type": "code",
   "execution_count": null,
   "metadata": {},
   "outputs": [],
   "source": [
    "pip install sklearn"
   ]
  },
  {
   "cell_type": "code",
   "execution_count": null,
   "metadata": {
    "id": "tg7kmNca0p6J"
   },
   "outputs": [],
   "source": [
    "#Importing Important libraries\n",
    "\n",
    "from sklearn.metrics import accuracy_score, precision_score, recall_score, f1_score\n",
    "\n",
    "from sklearn.model_selection import RepeatedStratifiedKFold\n",
    "from sklearn.model_selection import GridSearchCV\n",
    "from sklearn.metrics import confusion_matrix\n",
    "from sklearn.metrics import classification_report "
   ]
  },
  {
   "cell_type": "markdown",
   "metadata": {
    "id": "v2eXwW8s2pSC"
   },
   "source": [
    "## **Models**\n",
    "*Following models have been used for predictions:-*\n",
    "\n",
    "* Logistic Regression Classifier\n",
    "* Decision Tree Classifier\n",
    "* Random Forest Classifier\n",
    "* K-Nearest Neighbors Classifier\n",
    "* Gaussian Naive Bayes Classifier\n",
    "* Support Vector Machine Classifier"
   ]
  },
  {
   "cell_type": "markdown",
   "metadata": {},
   "source": [
    "## Extra Null value removing by KNN Imputer"
   ]
  },
  {
   "cell_type": "code",
   "execution_count": null,
   "metadata": {},
   "outputs": [],
   "source": [
    "from sklearn.impute import KNNImputer,SimpleImputer"
   ]
  },
  {
   "cell_type": "code",
   "execution_count": null,
   "metadata": {},
   "outputs": [],
   "source": [
    "knn=KNNImputer()\n",
    "x_train_trf=knn.fit_transform(X_train)\n",
    "x_test_trf=knn.transform(X_test)"
   ]
  },
  {
   "cell_type": "code",
   "execution_count": null,
   "metadata": {},
   "outputs": [],
   "source": [
    "pd.DataFrame(x_train_trf)"
   ]
  },
  {
   "cell_type": "markdown",
   "metadata": {
    "id": "m-vovDjA1AOP"
   },
   "source": [
    "# **Logistic Regression Classifier**\n",
    "\n",
    "*Logistic regression is a statistical model that in its basic form uses a logistic function to model a binary dependent variable, although many more complex extensions exist. In regression analysis, logistic regression (or logit regression) is estimating the parameters of a logistic model (a form of binary regression). Logistic Regression is used when the dependent variable(target) is categorical. The model delivers a binary or dichotomous outcome limited to two possible outcomes: yes/no, 0/1, or true/false.*\n",
    "\n",
    "*Logical regression analyzes the relationship between one or more independent variables and classifies data into discrete classes. It is extensively used in predictive modeling, where the model estimates the mathematical probability of whether an instance belongs to a specific category or not.*\n",
    "\n",
    "*For example, 0 – represents a negative class; 1 – represents a positive class. Logistic regression is commonly used in binary classification problems where the outcome variable reveals either of the two categories (0 and 1).*\n",
    "\n",
    "*Typical properties of the logistic regression equation include:*\n",
    "\n",
    "* *Logistic regression’s dependent variable obeys ‘Bernoulli distribution*’\n",
    "\n",
    "* *Estimation/prediction is based on ‘maximum likelihood.’*\n",
    "\n",
    "* *Logistic regression does not evaluate the coefficient of determination (or R squared) as observed in linear regression’. Instead, the model’s fitness is assessed through a concordance.*"
   ]
  },
  {
   "cell_type": "code",
   "execution_count": null,
   "metadata": {
    "id": "CsA-p2njt8Hw"
   },
   "outputs": [],
   "source": [
    "#Importing Logistic Regression from sklearn\n",
    "from sklearn.linear_model import LogisticRegression"
   ]
  },
  {
   "cell_type": "code",
   "execution_count": null,
   "metadata": {
    "id": "Do9otyXpt8FD"
   },
   "outputs": [],
   "source": [
    "# Creating model object for logistic regression.\n",
    "\n",
    "clf = LogisticRegression(fit_intercept=True, max_iter=10000)"
   ]
  },
  {
   "cell_type": "code",
   "execution_count": null,
   "metadata": {
    "colab": {
     "base_uri": "https://localhost:8080/"
    },
    "id": "Tl96wXS-t8Cx",
    "outputId": "db9a0e6e-c9fe-4328-8c57-94ef8fcb9644"
   },
   "outputs": [],
   "source": [
    "# fit the model.\n",
    "\n",
    "clf.fit(x_train_trf,y_train)"
   ]
  },
  {
   "cell_type": "code",
   "execution_count": null,
   "metadata": {
    "id": "MD--FKiKt8AD"
   },
   "outputs": [],
   "source": [
    "# Getting the predicted classes for training and testing set\n",
    "\n",
    "train_class_preds = clf.predict(x_train_trf)\n",
    "test_class_preds = clf.predict(x_test_trf)"
   ]
  },
  {
   "cell_type": "code",
   "execution_count": null,
   "metadata": {
    "colab": {
     "base_uri": "https://localhost:8080/"
    },
    "id": "9GjD9e3mt74n",
    "outputId": "d6d719d5-f4ae-4aa6-b726-c6ce4409b80a"
   },
   "outputs": [],
   "source": [
    "# Getting the accuracy scores for training and testing set.\n",
    "\n",
    "train_accuracy_lg = accuracy_score(train_class_preds, y_train)\n",
    "test_accuracy_lg = accuracy_score(test_class_preds, y_test)\n",
    "\n",
    "# Display accuracies.\n",
    "\n",
    "print(\"The accuracy on train data is \", train_accuracy_lg)\n",
    "print(\"The accuracy on test data is \", test_accuracy_lg)"
   ]
  },
  {
   "cell_type": "code",
   "execution_count": null,
   "metadata": {
    "colab": {
     "base_uri": "https://localhost:8080/"
    },
    "id": "yInbseKet7wR",
    "outputId": "46a49edc-6942-44fc-8673-8bb1a359e8d0"
   },
   "outputs": [],
   "source": [
    "\n",
    "# Confusion Matrix for logistic regression classifier.\n",
    "\n",
    "cf_matrix = confusion_matrix(y_test,test_class_preds)\n",
    "cf_matrix"
   ]
  },
  {
   "cell_type": "code",
   "execution_count": null,
   "metadata": {
    "colab": {
     "base_uri": "https://localhost:8080/",
     "height": 295
    },
    "id": "ZOn3lq3Uy-Yk",
    "outputId": "e728c8df-3646-4e94-c262-ba4139941f61"
   },
   "outputs": [],
   "source": [
    "#Plotting the cofusion matrix.\n",
    "labels = ['784',' 6','129','12']\n",
    "\n",
    "labels = np.asarray(labels).reshape(2,2)\n",
    "\n",
    "ax = sns.heatmap(cf_matrix, annot=labels, fmt='', cmap='Blues')\n",
    "\n",
    "ax.set_title('Confusion Matrix for Logistic Regression');\n",
    "ax.set_xlabel('Predicted Values')\n",
    "ax.set_ylabel('Actual Values');\n",
    "\n",
    "# Ticket labels - List must be in alphabetical order\n",
    "ax.xaxis.set_ticklabels(['False','True'])\n",
    "ax.yaxis.set_ticklabels(['False','True'])\n",
    "\n",
    "# Display the visualization of the Confusion Matrix.\n",
    "plt.show()"
   ]
  },
  {
   "cell_type": "code",
   "execution_count": null,
   "metadata": {
    "id": "BwUh_3b9zNWm"
   },
   "outputs": [],
   "source": [
    "# Predicted values.\n",
    "y_pred_log_reg = clf.predict(x_test_trf)"
   ]
  },
  {
   "cell_type": "code",
   "execution_count": null,
   "metadata": {
    "id": "Gzbc4p5RzOoy"
   },
   "outputs": [],
   "source": [
    "# Getting classification report.\n",
    "\n",
    "dict_1 = classification_report(y_test, y_pred_log_reg, output_dict = True)"
   ]
  },
  {
   "cell_type": "code",
   "execution_count": null,
   "metadata": {},
   "outputs": [],
   "source": [
    "#Adding results to model evaluation dataframe.\n",
    "tempodf=pd.DataFrame(dict_1).transpose()\n",
    "tempodf['Model'] = 'Logistic Regression Classifier'\n",
    "res_df=res_df.append(tempodf[2:-2])\n",
    "res_df"
   ]
  },
  {
   "cell_type": "markdown",
   "metadata": {
    "id": "iNSqEw1c1GFp"
   },
   "source": [
    "# **Decision Tree Classifier**\n",
    "*Decision trees can be used for classification as well as regression problems. The name itself suggests that it uses a flowchart like a tree structure to show the predictions that result from a series of feature-based splits. It starts with a root node and ends with a decision made by leaves.*\n",
    "\n",
    "*Decision trees are upside down which means the root is at the top and then this root is split into various several nodes. Decision trees are nothing but a bunch of if-else statements in layman terms. It checks if the condition is true and if it is then it goes to the next node attached to that decision.*\n",
    "\n",
    "*In a Decision Tree diagram, we have:*\n",
    "\n",
    "**Root Node:** *The first split which decides the entire population or sample data should further get divided into two or more homogeneous sets. In our case, the Outlook node.*\n",
    "\n",
    "**Splitting:** *It is a process of dividing a node into two or more sub-nodes.*\n",
    "\n",
    "**Decision Node:** *This node decides whether/when a sub-node splits into further sub-nodes or not. Here we have, Outlook node, Humidity node, and Windy node.*\n",
    "\n",
    "**Leaf:** *Terminal Node that predicts the outcome (categorical or continuous value). The coloured nodes, i.e., Yes and No nodes, are the leaves.*\n",
    "\n"
   ]
  },
  {
   "cell_type": "code",
   "execution_count": null,
   "metadata": {
    "id": "jwBVH-xmzOkJ"
   },
   "outputs": [],
   "source": [
    "#Importing libraries for DecisionTreeClassifier model.\n",
    "from sklearn.tree import DecisionTreeClassifier\n",
    "from sklearn.model_selection import GridSearchCV\n"
   ]
  },
  {
   "cell_type": "code",
   "execution_count": null,
   "metadata": {
    "id": "cgVl_LrMzOgu"
   },
   "outputs": [],
   "source": [
    "# Creating model object for DecisionTreeClassifier.\n",
    "dt_clf = DecisionTreeClassifier()"
   ]
  },
  {
   "cell_type": "code",
   "execution_count": null,
   "metadata": {
    "id": "9sW__7f-zOdy"
   },
   "outputs": [],
   "source": [
    "# Storing the hyperparameters in Dict\n",
    "parameters = {'max_depth' : [4,6,8,10],\n",
    "              'min_samples_split' : [10,20,30,40,50],\n",
    "              'min_samples_leaf' : [10,15,20]}"
   ]
  },
  {
   "cell_type": "code",
   "execution_count": null,
   "metadata": {
    "id": "pnfb2sHozOWm"
   },
   "outputs": [],
   "source": [
    "# Applying GridSearchCV for hyperparameter tuning.\n",
    "dt_clf = GridSearchCV(dt_clf, parameters, scoring='roc_auc', cv=5)"
   ]
  },
  {
   "cell_type": "code",
   "execution_count": null,
   "metadata": {
    "colab": {
     "base_uri": "https://localhost:8080/"
    },
    "id": "aXaZmIWdzOTs",
    "outputId": "59af7aad-0395-48bd-b935-11a656912520"
   },
   "outputs": [],
   "source": [
    "# Fitting the model\n",
    "dt_clf.fit(x_train_trf,y_train)"
   ]
  },
  {
   "cell_type": "code",
   "execution_count": null,
   "metadata": {
    "colab": {
     "base_uri": "https://localhost:8080/"
    },
    "id": "yKN43ut2zOQq",
    "outputId": "75a8e1ae-b77c-48e0-c583-43acba9bb3aa"
   },
   "outputs": [],
   "source": [
    "# Checking the best parameters\n",
    "dt_clf.best_estimator_"
   ]
  },
  {
   "cell_type": "code",
   "execution_count": null,
   "metadata": {
    "id": "9KO3qlUbzOOM"
   },
   "outputs": [],
   "source": [
    "# Getting the predicted classes for training and testing set\n",
    "\n",
    "train_dt_prediction = dt_clf.predict(x_train_trf)\n",
    "test_dt_prediction = dt_clf.predict(x_test_trf)"
   ]
  },
  {
   "cell_type": "code",
   "execution_count": null,
   "metadata": {
    "colab": {
     "base_uri": "https://localhost:8080/"
    },
    "id": "ylqXhe-DzOMB",
    "outputId": "8470900a-e209-4081-d01c-3cef5f5c0dad"
   },
   "outputs": [],
   "source": [
    "# Getting the accuracy scores for training and testing set.\n",
    "\n",
    "train_accuracy_dt = accuracy_score(train_dt_prediction, y_train)\n",
    "test_accuracy_dt = accuracy_score(test_dt_prediction, y_test)\n",
    "\n",
    "# Display accuracies.\n",
    "print(\"The accuracy on train data is \", train_accuracy_dt)\n",
    "print(\"The accuracy on test data is \", test_accuracy_dt)"
   ]
  },
  {
   "cell_type": "code",
   "execution_count": null,
   "metadata": {
    "colab": {
     "base_uri": "https://localhost:8080/"
    },
    "id": "4S7nuoK011tX",
    "outputId": "38378332-1c10-457f-998b-e7ccffc4d886"
   },
   "outputs": [],
   "source": [
    "# Confusion Matrix for random forest classifier.\n",
    "\n",
    "dt_cf_matrix = confusion_matrix(y_test,test_dt_prediction)\n",
    "dt_cf_matrix"
   ]
  },
  {
   "cell_type": "code",
   "execution_count": null,
   "metadata": {
    "colab": {
     "base_uri": "https://localhost:8080/",
     "height": 295
    },
    "id": "BRt5EF0K11rJ",
    "outputId": "bca7c564-61cc-4755-b01e-d5ba2c8734a5"
   },
   "outputs": [],
   "source": [
    "# Plotting the confusion matrix\n",
    "\n",
    "labels = ['778','12','134','7']\n",
    "\n",
    "labels = np.asarray(labels).reshape(2,2)\n",
    "\n",
    "ax = sns.heatmap(dt_cf_matrix, annot=labels, fmt='', cmap='Blues')\n",
    "\n",
    "ax.set_title('Confusion Matrix for Decision Tree');\n",
    "ax.set_xlabel('Predicted Values')\n",
    "ax.set_ylabel('Actual Values');\n",
    "\n",
    "## Ticket labels - List must be in alphabetical order\n",
    "ax.xaxis.set_ticklabels(['False','True'])\n",
    "ax.yaxis.set_ticklabels(['False','True'])\n",
    "\n",
    "## Display the visualization of the Confusion Matrix.\n",
    "plt.show()"
   ]
  },
  {
   "cell_type": "code",
   "execution_count": null,
   "metadata": {
    "id": "2DW25e-A11of"
   },
   "outputs": [],
   "source": [
    "# Predicted values.\n",
    "\n",
    "y_pred_dt = dt_clf.predict(x_test_trf)"
   ]
  },
  {
   "cell_type": "code",
   "execution_count": null,
   "metadata": {
    "id": "UIY6qiDe11lB"
   },
   "outputs": [],
   "source": [
    "# Getting classification report.\n",
    "\n",
    "dict_2 = classification_report(y_test, y_pred_dt, output_dict = True)"
   ]
  },
  {
   "cell_type": "code",
   "execution_count": null,
   "metadata": {
    "colab": {
     "base_uri": "https://localhost:8080/",
     "height": 112
    },
    "id": "ZlMlBuXY11ht",
    "outputId": "1d4afd72-11a6-41d5-a2b0-05455f4eb542"
   },
   "outputs": [],
   "source": [
    "# Storing the scores in a dataframe\n",
    "tempodf=pd.DataFrame(dict_2).transpose()\n",
    "tempodf['Model'] = 'Decision Tree Classifier'\n",
    "res_df=res_df.append(tempodf[2:-2])\n",
    "res_df"
   ]
  },
  {
   "cell_type": "markdown",
   "metadata": {
    "id": "3zNFu5dh1Pmq"
   },
   "source": [
    "#**Random Forest Classifier**\n",
    "\n",
    "*Random Forest is a technique that uses ensemble learning, that combines many weak classifiers to provide solutions to complex problems.*\n",
    "\n",
    "*As the name suggests random forest consists of many decision trees. Rather than depending on one tree it takes the prediction from each tree and based on the majority votes of predictions, predicts the final output.*\n",
    "\n",
    "*Random forests use the bagging method. It creates a subset of the original dataset, and the final output is based on majority ranking and hence the problem of overfitting is taken care of.*"
   ]
  },
  {
   "cell_type": "code",
   "execution_count": null,
   "metadata": {
    "id": "b3WXtuo411eE"
   },
   "outputs": [],
   "source": [
    "# Importing Necessary library\n",
    "\n",
    "from sklearn.ensemble import RandomForestClassifier"
   ]
  },
  {
   "cell_type": "code",
   "execution_count": null,
   "metadata": {
    "id": "pi-FFdqW11bx"
   },
   "outputs": [],
   "source": [
    "#Creating an instance for the random forest regressor.\n",
    "\n",
    "rf_clf = RandomForestClassifier()"
   ]
  },
  {
   "cell_type": "code",
   "execution_count": null,
   "metadata": {
    "id": "9IxqXydb11Zg"
   },
   "outputs": [],
   "source": [
    "# Storing the hyperparameters in Dict\n",
    "params = {'n_estimators' : [750, 850],\n",
    "         'max_depth': [7,9],\n",
    "         'max_features' : [7,8],\n",
    "         'min_samples_leaf' : [2,3]}"
   ]
  },
  {
   "cell_type": "code",
   "execution_count": null,
   "metadata": {
    "id": "KxdMo04s11XN"
   },
   "outputs": [],
   "source": [
    "# Using GridSearchCV for hyperparameter tuning\n",
    "cv = GridSearchCV(rf_clf, param_grid = params, scoring = 'roc_auc', cv =5)"
   ]
  },
  {
   "cell_type": "code",
   "execution_count": null,
   "metadata": {
    "colab": {
     "base_uri": "https://localhost:8080/"
    },
    "id": "t7Zu4-xk11VF",
    "outputId": "8b853d2c-4f93-46d0-ac16-3a68047a299b"
   },
   "outputs": [],
   "source": [
    "# Fitting the model\n",
    "cv.fit(x_train_trf, y_train)"
   ]
  },
  {
   "cell_type": "code",
   "execution_count": null,
   "metadata": {
    "colab": {
     "base_uri": "https://localhost:8080/"
    },
    "id": "K0UyYVpc11S0",
    "outputId": "8a100c49-c56d-4c36-db2d-0ecf45c261ed"
   },
   "outputs": [],
   "source": [
    "# Checking the best parameters\n",
    "cv.best_estimator_"
   ]
  },
  {
   "cell_type": "code",
   "execution_count": null,
   "metadata": {
    "id": "9CRnxcUB11PL"
   },
   "outputs": [],
   "source": [
    "# Getting the predicted classes for training and testing set\n",
    "\n",
    "train_rf_prediction = cv.predict(x_train_trf)\n",
    "test_rf_prediction = cv.predict(x_test_trf)"
   ]
  },
  {
   "cell_type": "code",
   "execution_count": null,
   "metadata": {
    "colab": {
     "base_uri": "https://localhost:8080/"
    },
    "id": "C4ySKxcY4dv8",
    "outputId": "5f490997-0b1b-46f3-9fc0-2a50429d1e37"
   },
   "outputs": [],
   "source": [
    "# Getting the accuracy scores for training and testing set.\n",
    "\n",
    "train_accuracy_rf = accuracy_score(train_rf_prediction, y_train)\n",
    "test_accuracy_rf = accuracy_score(test_rf_prediction, y_test)\n",
    "\n",
    "# Display accuracies.\n",
    "print(\"The accuracy on train data is \", train_accuracy_rf)\n",
    "print(\"The accuracy on test data is \", test_accuracy_rf)"
   ]
  },
  {
   "cell_type": "code",
   "execution_count": null,
   "metadata": {
    "colab": {
     "base_uri": "https://localhost:8080/"
    },
    "id": "i6Q05ImQ4ds3",
    "outputId": "2731e314-9ef2-41f3-9809-05bc685a5fe5"
   },
   "outputs": [],
   "source": [
    "# Confusion Matrix for random forest classifier.\n",
    "\n",
    "rf_cf_matrix = confusion_matrix(y_test,test_rf_prediction)\n",
    "rf_cf_matrix"
   ]
  },
  {
   "cell_type": "code",
   "execution_count": null,
   "metadata": {
    "colab": {
     "base_uri": "https://localhost:8080/",
     "height": 295
    },
    "id": "C0MS_nZ24dof",
    "outputId": "afecd597-bfc6-490c-f588-32a75763aece"
   },
   "outputs": [],
   "source": [
    "# Plotting the confusion matrix\n",
    "\n",
    "labels = ['779','11','138','3']\n",
    "\n",
    "labels = np.asarray(labels).reshape(2,2)\n",
    "\n",
    "ax = sns.heatmap(rf_cf_matrix, annot=labels, fmt='', cmap='Blues')\n",
    "\n",
    "ax.set_title('Confusion Matrix for Random Forest');\n",
    "ax.set_xlabel('Predicted Values')\n",
    "ax.set_ylabel('Actual Values');\n",
    "\n",
    "## Ticket labels - List must be in alphabetical order\n",
    "ax.xaxis.set_ticklabels(['False','True'])\n",
    "ax.yaxis.set_ticklabels(['False','True'])\n",
    "\n",
    "## Display the visualization of the Confusion Matrix.\n",
    "plt.show()"
   ]
  },
  {
   "cell_type": "code",
   "execution_count": null,
   "metadata": {
    "id": "4g5uDGGt4dlF"
   },
   "outputs": [],
   "source": [
    "# Predicted values.\n",
    "\n",
    "y_pred_rf = cv.predict(x_test_trf)"
   ]
  },
  {
   "cell_type": "code",
   "execution_count": null,
   "metadata": {
    "id": "pORWBmSv4diV"
   },
   "outputs": [],
   "source": [
    "# Getting classification report.\n",
    "\n",
    "dict_3 = classification_report(y_test, y_pred_rf, output_dict = True)"
   ]
  },
  {
   "cell_type": "code",
   "execution_count": null,
   "metadata": {
    "colab": {
     "base_uri": "https://localhost:8080/",
     "height": 143
    },
    "id": "kWxIHI5V4dfs",
    "outputId": "cb55481e-eb21-4b20-8c10-ba0642e55a88"
   },
   "outputs": [],
   "source": [
    "# Storing the scores in a dataframe\n",
    "tempodf=pd.DataFrame(dict_3).transpose()\n",
    "tempodf['Model'] = 'Random Forest Classifier'\n",
    "res_df=res_df.append(tempodf[2:-2])\n",
    "res_df"
   ]
  },
  {
   "cell_type": "markdown",
   "metadata": {
    "id": "gAEyPRqA1Xn-"
   },
   "source": [
    "#**K-Nearest Neighbours Classifier**\n",
    "\n",
    "KNN which stands for K-Nearest Neighbours is a simple algorithm that is used for classification and regression problems in Machine Learning. KNN is also non-parametric which means the algorithm does not rely on strong assumptions instead tries to learn any functional form from the training data.\n",
    "\n",
    "Unlike most of the algorithms with complex names, which are often confusing as to what they really mean, KNN is pretty straight forward. The algorithm considers the k nearest neighbours to predict the class or value of a data point.\n",
    "\n",
    "*The kNN working can be explained on the basis of the below algorithm:*\n",
    "\n",
    "* <b>Step-1:</b> Select the number K of the neighbors\n",
    "* <b>Step-2:</b> Calculate the Euclidean distance of K number of neighbors\n",
    "* <b>Step-3:</b> Take the K nearest neighbors as per the calculated Euclidean distance.\n",
    "* <b>Step-4:</b> Among these k neighbors, count the number of the data points in each category.\n",
    "* <b>Step-5:</b> Assign the new data points to that category for which the number of the neighbor is maximum.\n",
    "* <b>Step-6:</b> Our model is ready."
   ]
  },
  {
   "cell_type": "code",
   "execution_count": null,
   "metadata": {
    "id": "tb4g7rBj4dc1"
   },
   "outputs": [],
   "source": [
    "# Importing necessary library\n",
    "\n",
    "from sklearn.neighbors import KNeighborsClassifier"
   ]
  },
  {
   "cell_type": "code",
   "execution_count": null,
   "metadata": {
    "id": "CMhgi1sv4daO"
   },
   "outputs": [],
   "source": [
    "#Creating an instance for the KNN classifier.\n",
    "\n",
    "KNN_clf = KNeighborsClassifier()"
   ]
  },
  {
   "cell_type": "code",
   "execution_count": null,
   "metadata": {
    "id": "p7LQ9LZu4dXg"
   },
   "outputs": [],
   "source": [
    "# Using hyperparameter tuning to get the opimal value of n_neighbors\n",
    "\n",
    "parameters = {'n_neighbors':np.arange(1,10)}\n",
    "cv_knn = GridSearchCV(KNN_clf, cv = 5, param_grid = parameters)"
   ]
  },
  {
   "cell_type": "code",
   "execution_count": null,
   "metadata": {
    "colab": {
     "base_uri": "https://localhost:8080/"
    },
    "id": "bcPCMxRI4dU9",
    "outputId": "8a41ce64-6b72-4331-cda8-c5fb9577eff1"
   },
   "outputs": [],
   "source": [
    "# Fitting the model\n",
    "\n",
    "cv_knn.fit(x_train_trf, y_train)"
   ]
  },
  {
   "cell_type": "code",
   "execution_count": null,
   "metadata": {
    "colab": {
     "base_uri": "https://localhost:8080/"
    },
    "id": "zketQei35P7K",
    "outputId": "0be3759b-e94a-4b3c-f89d-c366aa5f2274"
   },
   "outputs": [],
   "source": [
    "# Checking the best parameter.\n",
    "\n",
    "cv_knn.best_estimator_"
   ]
  },
  {
   "cell_type": "code",
   "execution_count": null,
   "metadata": {
    "id": "Y4GBJC2q5WBB"
   },
   "outputs": [],
   "source": [
    "# Getting the predicted classes for training and testing set\n",
    "\n",
    "train_knn_prediction = cv_knn.predict(x_train_trf)\n",
    "test_knn_prediction = cv_knn.predict(x_test_trf)"
   ]
  },
  {
   "cell_type": "code",
   "execution_count": null,
   "metadata": {
    "colab": {
     "base_uri": "https://localhost:8080/"
    },
    "id": "6XkA9Y-m5V-M",
    "outputId": "adea2b47-5cab-471b-ea36-ca95ba5c20f5"
   },
   "outputs": [],
   "source": [
    "# Getting the accuracy scores for training and testing set.\n",
    "\n",
    "train_accuracy_knn = accuracy_score(train_knn_prediction, y_train)\n",
    "test_accuracy_knn = accuracy_score(test_knn_prediction, y_test)\n",
    "\n",
    "# Display accuracies.\n",
    "\n",
    "print(\"The accuracy on train data is \", train_accuracy_knn)\n",
    "print(\"The accuracy on test data is \", test_accuracy_knn)"
   ]
  },
  {
   "cell_type": "code",
   "execution_count": null,
   "metadata": {
    "colab": {
     "base_uri": "https://localhost:8080/"
    },
    "id": "db4IAkYQ5V7V",
    "outputId": "22a63b20-a8b3-4f69-9ef1-d02054105fba"
   },
   "outputs": [],
   "source": [
    "# Confusion Matrix for KNN classifier.\n",
    "\n",
    "knn_cf_matrix = confusion_matrix(y_test,test_knn_prediction)\n",
    "knn_cf_matrix"
   ]
  },
  {
   "cell_type": "code",
   "execution_count": null,
   "metadata": {
    "colab": {
     "base_uri": "https://localhost:8080/",
     "height": 295
    },
    "id": "EgTVLU5J5V4W",
    "outputId": "d1cb0c22-7d75-4e84-d769-99a0cbcf12f5"
   },
   "outputs": [],
   "source": [
    "# Plotting the confusion matrix\n",
    "labels = ['779','11','135','6']\n",
    "\n",
    "labels = np.asarray(labels).reshape(2,2)\n",
    "\n",
    "ax = sns.heatmap(knn_cf_matrix, annot=labels, fmt='', cmap='Blues')\n",
    "\n",
    "ax.set_title('Confusion Matrix for KNN');\n",
    "ax.set_xlabel('Predicted Values')\n",
    "ax.set_ylabel('Actual Values');\n",
    "\n",
    "## Ticket labels - List must be in alphabetical order\n",
    "ax.xaxis.set_ticklabels(['False','True'])\n",
    "ax.yaxis.set_ticklabels(['False','True'])\n",
    "\n",
    "## Display the visualization of the Confusion Matrix.\n",
    "plt.show()"
   ]
  },
  {
   "cell_type": "code",
   "execution_count": null,
   "metadata": {
    "id": "7YesY86_5V1k"
   },
   "outputs": [],
   "source": [
    "# Predicted values.\n",
    "\n",
    "y_pred_KNN = cv_knn.predict(x_test_trf)"
   ]
  },
  {
   "cell_type": "code",
   "execution_count": null,
   "metadata": {
    "id": "nIV1sMUD5Vxg"
   },
   "outputs": [],
   "source": [
    "# Getting classification report.\n",
    "\n",
    "dict_4 = classification_report(y_test, y_pred_KNN, output_dict = True)"
   ]
  },
  {
   "cell_type": "code",
   "execution_count": null,
   "metadata": {
    "colab": {
     "base_uri": "https://localhost:8080/",
     "height": 175
    },
    "id": "V3QkHuMX5Vq9",
    "outputId": "760595b6-55ab-4a72-ddcf-18bf3f8e8c98"
   },
   "outputs": [],
   "source": [
    "# Storing the scores in a dataframe\n",
    "tempodf=pd.DataFrame(dict_4).transpose()\n",
    "tempodf['Model'] = 'K-Nearest Neighbours Classifier'\n",
    "res_df=res_df.append(tempodf[2:-2])\n",
    "res_df"
   ]
  },
  {
   "cell_type": "markdown",
   "metadata": {
    "id": "ixc0QRTQ1gVM"
   },
   "source": [
    "#**Gaussian Naive Bayes:**\n",
    "\n",
    "The Naïve Bayes algorithm is a classification technique based on the Bayes’ Theorem which assumes there is independence between the features. We interfere with applications utilizing this algorithm on a daily basis, for example it powers recommendation systems for streaming applications or adds on social media as well as many online retail websites.\n",
    "\n",
    "Naive Bayes model is easy to build and particularly useful for very large data sets. Along with simplicity, Naive Bayes is known to outperform even highly sophisticated classification methods. Let’s have a look under the hood of this major classifier.\n",
    "\n",
    "The simple form of the calculation for Bayes Theorem is as follows:\n",
    "\n",
    "# **P(A|B) = P(B|A) * P(A) / P(B)**"
   ]
  },
  {
   "cell_type": "code",
   "execution_count": null,
   "metadata": {
    "id": "bghnDCxY56YD"
   },
   "outputs": [],
   "source": [
    "# Necessary library\n",
    "\n",
    "from sklearn.naive_bayes import GaussianNB"
   ]
  },
  {
   "cell_type": "code",
   "execution_count": null,
   "metadata": {
    "id": "WHfquVb056Oe"
   },
   "outputs": [],
   "source": [
    "# Creating model object for Naive Bayes Classifier\n",
    "\n",
    "gnb = GaussianNB()"
   ]
  },
  {
   "cell_type": "code",
   "execution_count": null,
   "metadata": {
    "colab": {
     "base_uri": "https://localhost:8080/"
    },
    "id": "xy4SWQ4e56Eo",
    "outputId": "48d2ea20-24d5-43ff-b0eb-341a7717b16b"
   },
   "outputs": [],
   "source": [
    "# Fitting the model\n",
    "\n",
    "gnb.fit(x_train_trf, y_train)"
   ]
  },
  {
   "cell_type": "code",
   "execution_count": null,
   "metadata": {
    "id": "kJ_G4SAz5546"
   },
   "outputs": [],
   "source": [
    "# Getting the predicted classes for training and testing set\n",
    "\n",
    "train_class_preds_gnb = gnb.predict(x_train_trf)\n",
    "test_class_preds_gnb = gnb.predict(x_test_trf)"
   ]
  },
  {
   "cell_type": "code",
   "execution_count": null,
   "metadata": {
    "colab": {
     "base_uri": "https://localhost:8080/"
    },
    "id": "6NekeYGT55tj",
    "outputId": "78abb56e-a814-4e83-dede-941c69eba24c"
   },
   "outputs": [],
   "source": [
    "# Getting the accuracy scores for training and testing set.\n",
    "\n",
    "train_accuracy_gnb = accuracy_score(train_class_preds_gnb, y_train)\n",
    "test_accuracy_gnb = accuracy_score(test_class_preds_gnb, y_test)\n",
    "\n",
    "# Display accuracies.\n",
    "\n",
    "print(\"The accuracy on train data is \", train_accuracy_gnb)\n",
    "print(\"The accuracy on test data is \", test_accuracy_gnb)"
   ]
  },
  {
   "cell_type": "code",
   "execution_count": null,
   "metadata": {
    "colab": {
     "base_uri": "https://localhost:8080/"
    },
    "id": "fRf1GPu455XX",
    "outputId": "f56bb5b1-543a-4bf6-dcb5-29e7abec47b0"
   },
   "outputs": [],
   "source": [
    "# Confusion Matrix for logistic regression classifier.\n",
    "\n",
    "cf_matrix_gnb = confusion_matrix(y_test,test_class_preds_gnb)\n",
    "cf_matrix_gnb"
   ]
  },
  {
   "cell_type": "code",
   "execution_count": null,
   "metadata": {
    "colab": {
     "base_uri": "https://localhost:8080/",
     "height": 295
    },
    "id": "yMUYLQYa55Di",
    "outputId": "b2f03fa0-32de-42fb-dbd6-ebe558928432"
   },
   "outputs": [],
   "source": [
    "# Plotting the confusion matrix\n",
    "labels = ['746','44','124','17']\n",
    "\n",
    "labels = np.asarray(labels).reshape(2,2)\n",
    "\n",
    "ax = sns.heatmap(cf_matrix_gnb, annot=labels, fmt='', cmap='Blues')\n",
    "\n",
    "ax.set_title('Confusion Matrix for Naive Bayes Classifier');\n",
    "ax.set_xlabel('Predicted Values')\n",
    "ax.set_ylabel('Actual Values');\n",
    "\n",
    "## Ticket labels - List must be in alphabetical order\n",
    "ax.xaxis.set_ticklabels(['False','True'])\n",
    "ax.yaxis.set_ticklabels(['False','True'])\n",
    "\n",
    "## Display the visualization of the Confusion Matrix.\n",
    "plt.show()"
   ]
  },
  {
   "cell_type": "code",
   "execution_count": null,
   "metadata": {
    "id": "S1J4LiSR6fDw"
   },
   "outputs": [],
   "source": [
    "# Predicted values.\n",
    "\n",
    "y_pred_gnb = gnb.predict(x_test_trf)"
   ]
  },
  {
   "cell_type": "code",
   "execution_count": null,
   "metadata": {
    "id": "sR9t2gMU6fAw"
   },
   "outputs": [],
   "source": [
    "# Getting classification report.\n",
    "\n",
    "dict_5 = classification_report(y_test, y_pred_gnb, output_dict = True)"
   ]
  },
  {
   "cell_type": "code",
   "execution_count": null,
   "metadata": {
    "colab": {
     "base_uri": "https://localhost:8080/",
     "height": 206
    },
    "id": "TmhUa6x36e95",
    "outputId": "8c977619-6df4-4718-fbdb-e4b82a25c0a4"
   },
   "outputs": [],
   "source": [
    "# Storing the scores in a dataframe\n",
    "tempodf=pd.DataFrame(dict_5).transpose()\n",
    "tempodf['Model'] = 'Gaussian Naive Bayes Classifier'\n",
    "res_df=res_df.append(tempodf[2:-2])\n",
    "res_df"
   ]
  },
  {
   "cell_type": "markdown",
   "metadata": {
    "id": "cQl_OKEz1wFC"
   },
   "source": [
    "#**Support Vector Machine**\n",
    "\n",
    "SVM is a powerful supervised algorithm that works best on smaller datasets but on complex ones. Support Vector Machine, abbreviated as SVM can be used for both regression and classification tasks, but generally, they work best in classification problems.\n",
    "\n",
    "**Support Vectors:** These are the points that are closest to the hyperplane. A separating line will be defined with the help of these data points.\n",
    "\n",
    "**Margin:** it is the distance between the hyperplane and the observations closest to the hyperplane (support vectors). In SVM large margin is considered a good margin. There are two types of margins hard margin and soft margin."
   ]
  },
  {
   "cell_type": "code",
   "execution_count": null,
   "metadata": {
    "id": "yzwknvrX-Lqx"
   },
   "outputs": [],
   "source": [
    "# Importing Support vector machine Classifier.\n",
    "\n",
    "from sklearn import svm"
   ]
  },
  {
   "cell_type": "code",
   "execution_count": null,
   "metadata": {
    "id": "R2S2-itt-Lnt"
   },
   "outputs": [],
   "source": [
    "# Create a svm Classifier\n",
    "\n",
    "svmc = svm.SVC(kernel='poly')"
   ]
  },
  {
   "cell_type": "code",
   "execution_count": null,
   "metadata": {
    "colab": {
     "base_uri": "https://localhost:8080/"
    },
    "id": "7E697I4i-Lkf",
    "outputId": "d26f9742-7f41-4164-9eb3-a1eaf8015bb6"
   },
   "outputs": [],
   "source": [
    "# Fitting the model with training set\n",
    "\n",
    "svmc.fit(x_train_trf, y_train)"
   ]
  },
  {
   "cell_type": "code",
   "execution_count": null,
   "metadata": {
    "id": "lX-tv5lD-Lhb"
   },
   "outputs": [],
   "source": [
    "# Getting the predicted classes for training and testing set\n",
    "\n",
    "train_svm_prediction = svmc.predict(x_train_trf)\n",
    "test_svm_prediction = svmc.predict(x_test_trf)"
   ]
  },
  {
   "cell_type": "code",
   "execution_count": null,
   "metadata": {
    "colab": {
     "base_uri": "https://localhost:8080/"
    },
    "id": "3eIFsevr-iT-",
    "outputId": "7fa348f9-c5b8-4b16-e241-2b06788f5745"
   },
   "outputs": [],
   "source": [
    "# Getting the accuracy scores for training and testing set.\n",
    "\n",
    "train_accuracy_svm = accuracy_score(train_svm_prediction, y_train)\n",
    "test_accuracy_svm = accuracy_score(test_svm_prediction, y_test)\n",
    "\n",
    "# Display accuracies.\n",
    "print(\"The accuracy on train data is \", train_accuracy_svm)\n",
    "print(\"The accuracy on test data is \", test_accuracy_svm)"
   ]
  },
  {
   "cell_type": "code",
   "execution_count": null,
   "metadata": {
    "colab": {
     "base_uri": "https://localhost:8080/"
    },
    "id": "A49siZ6R-mdt",
    "outputId": "81184080-ca43-40f4-e09b-885146d06373"
   },
   "outputs": [],
   "source": [
    "# Confusion Matrix for random forest classifier.\n",
    "\n",
    "svm_cf_matrix = confusion_matrix(y_test,test_svm_prediction)\n",
    "svm_cf_matrix"
   ]
  },
  {
   "cell_type": "code",
   "execution_count": null,
   "metadata": {
    "colab": {
     "base_uri": "https://localhost:8080/",
     "height": 295
    },
    "id": "HSE2fs_Y-vEG",
    "outputId": "9dcd498e-4d76-4e06-b595-7acd374a40b1"
   },
   "outputs": [],
   "source": [
    "# Plotting the confusion matrix\n",
    "\n",
    "labels = ['786','5','134','7']\n",
    "\n",
    "labels = np.asarray(labels).reshape(2,2)\n",
    "\n",
    "ax = sns.heatmap(svm_cf_matrix, annot=labels, fmt='', cmap='Blues')\n",
    "\n",
    "ax.set_title('Confusion Matrix for Support Vector Classifier');\n",
    "ax.set_xlabel('Predicted Values')\n",
    "ax.set_ylabel('Actual Values');\n",
    "\n",
    "## Ticket labels - List must be in alphabetical order\n",
    "ax.xaxis.set_ticklabels(['False','True'])\n",
    "ax.yaxis.set_ticklabels(['False','True'])\n",
    "\n",
    "## Display the visualization of the Confusion Matrix.\n",
    "plt.show()"
   ]
  },
  {
   "cell_type": "code",
   "execution_count": null,
   "metadata": {
    "id": "gpkgIEFP-vAx"
   },
   "outputs": [],
   "source": [
    "# Predicted values.\n",
    "\n",
    "y_pred_svm = svmc.predict(x_test_trf)"
   ]
  },
  {
   "cell_type": "code",
   "execution_count": null,
   "metadata": {
    "id": "CeCun-hD-u9d"
   },
   "outputs": [],
   "source": [
    "# Getting classification report.\n",
    "\n",
    "dict_7 = classification_report(y_test, y_pred_svm, output_dict = True)"
   ]
  },
  {
   "cell_type": "code",
   "execution_count": null,
   "metadata": {
    "colab": {
     "base_uri": "https://localhost:8080/",
     "height": 269
    },
    "id": "I9QO0Qv9-u6X",
    "outputId": "9dc778b7-ea3b-4dc3-b678-3ab5ae5c62f0",
    "scrolled": true
   },
   "outputs": [],
   "source": [
    "#Storing scores in a dataframe.\n",
    "tempodf=pd.DataFrame(dict_7).transpose()\n",
    "tempodf['Model'] = 'Support Vector Machine'\n",
    "res_df=res_df.append(tempodf[2:-2])\n",
    "res_df"
   ]
  },
  {
   "cell_type": "markdown",
   "metadata": {
    "id": "MUuFz1XE3d3j"
   },
   "source": [
    "## **Comparing Models**"
   ]
  },
  {
   "cell_type": "code",
   "execution_count": null,
   "metadata": {},
   "outputs": [],
   "source": [
    "#comparing accuracies of six models"
   ]
  },
  {
   "cell_type": "code",
   "execution_count": null,
   "metadata": {},
   "outputs": [],
   "source": [
    "models=[\"LRegression\",\"DTree\",\"RForest\",\"KNN\",\"GNaive Bayes\",\"SVM\"]\n",
    "accuracies=[test_accuracy_lg,test_accuracy_dt,test_accuracy_rf,test_accuracy_knn,test_accuracy_gnb,test_accuracy_svm]\n",
    "\n",
    "barlist=plt.bar(models,accuracies,width=0.5,alpha=0.6)\n",
    "\n",
    "plt.ylim(0.8,0.86)\n",
    "\n",
    "barlist[1].set_color('r')\n",
    "barlist[2].set_color('g')\n",
    "barlist[3].set_color('y')\n",
    "barlist[4].set_color('b')\n",
    "barlist[5].set_color('cyan')\n"
   ]
  },
  {
   "cell_type": "markdown",
   "metadata": {
    "id": "A4XOTmMU3wGP"
   },
   "source": [
    "# **Conclusions:**"
   ]
  },
  {
   "cell_type": "markdown",
   "metadata": {
    "id": "7wl-C-KGeXjB"
   },
   "source": [
    "* *In conclusion, All the features provided in the dataset are extremely important and contribute towards the risk of getting CHDs. Although, we can conclude some majorly important features like:*\n",
    "* *As **age increases** the risk of getting diagnosed with **heart disease also increases**.*\n",
    "*\t***Cigarette consumption*** *is also a* ***major factor*** *that causes CHDs.*\n",
    "*\t*Patients having **Diabetes and cholesterol** problems show a **higher risk of CHDs**.*\n",
    "*\t*Patients having **high glucose levels** are **more prone to CHDs**.*\n",
    "*\t*Patients with a **history of “strokes”** have a **higher** **chance** of developing CHDs.*\n",
    "*\t*Patients with **high BMI(Body Mass Index)** are at **more risk of getting diagnosed with CHDs**.*\n",
    "\n",
    "* *Finally we can say that, **Logistic Regression Classifier** has performed best among all the models with the **accuracy**  of **85%** & **f1-score** of **0.8527**.*\n",
    "\n",
    "\n"
   ]
  },
  {
   "cell_type": "code",
   "execution_count": null,
   "metadata": {},
   "outputs": [],
   "source": []
  }
 ],
 "metadata": {
  "colab": {
   "authorship_tag": "ABX9TyNDlTn/uIlbVH86VdRRn8ua",
   "collapsed_sections": [],
   "include_colab_link": true,
   "mount_file_id": "10GLbqns945OheYmuXKm1M5NrR9Fw-BnV",
   "provenance": []
  },
  "kernelspec": {
   "display_name": "Python 3 (ipykernel)",
   "language": "python",
   "name": "python3"
  },
  "language_info": {
   "codemirror_mode": {
    "name": "ipython",
    "version": 3
   },
   "file_extension": ".py",
   "mimetype": "text/x-python",
   "name": "python",
   "nbconvert_exporter": "python",
   "pygments_lexer": "ipython3",
   "version": "3.11.7"
  }
 },
 "nbformat": 4,
 "nbformat_minor": 4
}
